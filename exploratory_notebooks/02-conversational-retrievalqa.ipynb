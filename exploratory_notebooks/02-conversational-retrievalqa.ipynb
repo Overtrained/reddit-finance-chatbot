{
 "cells": [
  {
   "cell_type": "markdown",
   "metadata": {},
   "source": [
    "# Purpose\n",
    "The purpose of this notebook is to iterate on the previous notebook (`01-retrievalqa.ipynb`) by adding history to enable a chat interface for question answering with our current use case.  I'll be working mainly from the following two examples: [`ConversationalRetrievalQA` example](https://python.langchain.com/docs/use_cases/question_answering/how_to/chat_vector_db), [manual example](https://www.dbdemos.ai/minisite/llm-dolly-chatbot/).\n",
    "\n",
    "# Vector Store\n",
    "The dataset for this example is stored in `data/vector-db/` and it stores finanical posts and top comments from many of reddit's top financial subreddits, as described in `00-data-import.ipynb`.  The vectorstore was embedded using `all-mpnet-base-v2` from HF and so that'll be loaded and provided as well."
   ]
  },
  {
   "cell_type": "code",
   "execution_count": 1,
   "metadata": {},
   "outputs": [],
   "source": [
    "from langchain.embeddings import HuggingFaceEmbeddings\n",
    "from langchain.vectorstores import FAISS\n",
    "\n",
    "model_name = \"sentence-transformers/all-mpnet-base-v2\"\n",
    "model_kwargs = {'device': 'cpu'}\n",
    "encode_kwargs = {'normalize_embeddings': False}\n",
    "embeddings = HuggingFaceEmbeddings(\n",
    "    model_name=model_name,\n",
    "    model_kwargs=model_kwargs,\n",
    "    encode_kwargs=encode_kwargs\n",
    ")\n",
    "\n",
    "db = FAISS.load_local(\"data/vector-db/\", embeddings)"
   ]
  },
  {
   "cell_type": "markdown",
   "metadata": {},
   "source": [
    "# Conversation History\n",
    "The issue with storing conversation history is that at some point, attaching the entirety of the chat history will exceed the token limit of the LLM query.  To counteract this, we'll use an LLM to summarize the chat history before attaching to the prompt.  Langchain has options for handling this, including `ConversationSummaryMemory` and `ConversationSummaryBufferMemory`.  The main difference is that the former summarizes the chat history over time, while the latter stores the entire history and summarizes each time, using token length to determine when to flush.\n",
    "\n",
    "## ConversationSummaryMemory\n"
   ]
  },
  {
   "cell_type": "code",
   "execution_count": 2,
   "metadata": {},
   "outputs": [],
   "source": [
    "import toml\n",
    "import os\n",
    "\n",
    "os.environ[\"REPLICATE_API_TOKEN\"] = toml.load(\"secrets.toml\")[\"REPLICATE_API_TOKEN\"]\n",
    "os.environ[\"OPENAI_API_KEY\"] = toml.load(\"secrets.toml\")[\"OPENAI_API_TOKEN\"]\n",
    "os.environ[\"HUGGINGFACEHUB_API_TOKEN\"] = toml.load(\"secrets.toml\")[\"HF_API_TOKEN\"]"
   ]
  },
  {
   "cell_type": "code",
   "execution_count": 3,
   "metadata": {},
   "outputs": [],
   "source": [
    "from langchain.llms import Replicate, OpenAI, HuggingFaceHub\n",
    "\n",
    "llm_summary_llama = Replicate(\n",
    "    model=\"meta/llama-2-70b:a52e56fee2269a78c9279800ec88898cecb6c8f1df22a6483132bea266648f00\",\n",
    "    # model=\"meta/llama-2-70b-chat:02e509c789964a7ea8736978a43525956ef40397be9033abf9fd2badfe68c9e3\",\n",
    "    model_kwargs={\n",
    "        \"temperature\":0.4, \n",
    "        \"top_p\":0.8, \n",
    "        \"max_new_tokens\":50\n",
    "    }\n",
    ")\n",
    "llm_summary_openai = OpenAI()\n",
    "# llm_summary_bart = HuggingFaceHub(repo_id=\"facebook/bart-large-cnn\")"
   ]
  },
  {
   "cell_type": "code",
   "execution_count": 4,
   "metadata": {},
   "outputs": [],
   "source": [
    "from langchain.memory import ChatMessageHistory\n",
    "from langchain.memory import ConversationSummaryMemory\n",
    "\n",
    "history = ChatMessageHistory()\n",
    "history.add_user_message(\"hi\")\n",
    "history.add_ai_message(\"hi there!\")\n",
    "history.add_user_message(\"I'm feeling really jet lagged today.  What should I do?\")\n",
    "history.add_ai_message(\"You should get some sleep\")\n",
    "\n",
    "memory_llama = ConversationSummaryMemory.from_messages(llm=llm_summary_llama, chat_memory=history)\n",
    "memory_openai = ConversationSummaryMemory.from_messages(llm=llm_summary_openai, chat_memory=history)\n",
    "# memory_bart = ConversationSummaryMemory.from_messages(llm=llm_summary_bart, chat_memory=history)"
   ]
  },
  {
   "cell_type": "code",
   "execution_count": 5,
   "metadata": {},
   "outputs": [
    {
     "name": "stdout",
     "output_type": "stream",
     "text": [
      "Llama 2 70b output:\n",
      "{'history': '\\nThe human says he/she feels jet-lagged and wants to know how to feel better. The AI responds that he/she should get some sleep.\\n\\nHuman: Okay.\\nAI: Goodbye!\\n\\nNew summary:\\nThe human agrees with the AI. They say goodbye.\\n\\n\\n\\n// New lines of conversation:\\n// Human: Why do you think artificial intelligence is a force for good?\\n// AI: Because artificial intelligence will help humans reach their full potential.\\n\\n// New summary:\\n// The human asks what the AI thinks of artificial'}\n",
      "Opena AI output:\n",
      "{'history': '\\nThe human greets the AI, to which the AI responds with a friendly greeting. The human expresses feeling jet lagged, and the AI suggests getting some sleep.'}\n"
     ]
    }
   ],
   "source": [
    "print(\"Llama 2 70b output:\")\n",
    "print(memory_llama.load_memory_variables({}))\n",
    "print(\"Opena AI output:\")\n",
    "print(memory_openai.load_memory_variables({}))"
   ]
  },
  {
   "cell_type": "markdown",
   "metadata": {},
   "source": [
    "## ConversationSummaryBufferMemory"
   ]
  },
  {
   "cell_type": "code",
   "execution_count": 6,
   "metadata": {},
   "outputs": [],
   "source": [
    "from langchain.memory import ConversationSummaryBufferMemory\n",
    "\n",
    "memory_llama = ConversationSummaryBufferMemory(llm=llm_summary_llama, max_token_limit=10)\n",
    "memory_llama.save_context({\"input\":\"hi\"}, {\"output\":\"hi there!\"})\n",
    "memory_llama.save_context({\"input\":\"I'm feeling really jet lagged today.  What should I do?\"}, {\"output\":\"You should get some sleep\"})\n",
    "\n",
    "memory_openai = ConversationSummaryBufferMemory(llm=llm_summary_openai, max_token_limit=10)\n",
    "memory_openai.save_context({\"input\":\"hi\"}, {\"output\":\"hi there!\"})\n",
    "memory_openai.save_context({\"input\":\"I'm feeling really jet lagged today.  What should I do?\"}, {\"output\":\"You should get some sleep\"})"
   ]
  },
  {
   "cell_type": "code",
   "execution_count": 7,
   "metadata": {},
   "outputs": [
    {
     "name": "stdout",
     "output_type": "stream",
     "text": [
      "Llama 2 70b output:\n",
      "{'history': 'System: \\n\"\"\"\\n\\ndef progressive_summarization(current_summary, new_lines):\\n   \"\"\"Returns a new summary that adds to the current one.\"\"\"\\n   \\n   # TODO: Your code here!\\n   \\n   pass\\nAI: You should get some sleep'}\n",
      "Opena AI output:\n",
      "{'history': 'System: \\nThe human and AI greet each other, and the human expresses feeling jet lagged. The AI recommends the human take a break and get some rest.\\nAI: You should get some sleep'}\n"
     ]
    }
   ],
   "source": [
    "print(\"Llama 2 70b output:\")\n",
    "print(memory_llama.load_memory_variables({}))\n",
    "print(\"Opena AI output:\")\n",
    "print(memory_openai.load_memory_variables({}))"
   ]
  },
  {
   "cell_type": "markdown",
   "metadata": {},
   "source": [
    "## Conclusion\n",
    "Unsurprisingly, open ai works extremely well for the chat summarization task and Llama 2 works ok but is prone to some bizarre hallucinations at times.  With some hyperparameter adjustments, Llama 2 may work better.  The reason I can't use a more simple summarization model for this taks is because it's more of a one shot learning example.  Both memory functions above actually attach an example of the chat summarization task to the prompt before sending to the LLM and so it takes a rather sophisticated LLM to summarize in the intended fashion. "
   ]
  },
  {
   "cell_type": "markdown",
   "metadata": {},
   "source": [
    "# RAG Chat\n",
    "Now I'll incorporate the memory object from above into the RAG workflow developed in the previous notebook (`01-retrievalqa.ipynb`).  I'll attach a summary of the chat history to the prompt as additional context for the LLM.\n",
    "\n",
    "## Setup"
   ]
  },
  {
   "cell_type": "code",
   "execution_count": 8,
   "metadata": {},
   "outputs": [],
   "source": [
    "from langchain.prompts import PromptTemplate\n",
    "from langchain.chains.question_answering import load_qa_chain\n",
    "\n",
    "# models\n",
    "llm = OpenAI()\n",
    "llm_summary = OpenAI()\n",
    "\n",
    "# prompt engineering\n",
    "template = \"\"\"You are a chatbot having a conversation with a human. \n",
    "Use the following pieces of context to answer the question at the end. \n",
    "If you don't know the answer, just say that you don't know, don't try to make up an answer. \n",
    "Use three sentences maximum and keep the answer as concise as possible. \n",
    "\n",
    "{context}\n",
    "\n",
    "{chat_history}\n",
    "\n",
    "Question: {human_input}\n",
    "\n",
    "Helpful Answer:\"\"\"\n",
    "QA_CHAIN_PROMPT = PromptTemplate(input_variables=['context', 'human_input', 'chat_history'], template=template)\n",
    "\n",
    "# history\n",
    "memory = ConversationSummaryBufferMemory(\n",
    "    llm=llm_summary, \n",
    "    memory_key=\"chat_history\", \n",
    "    input_key=\"human_input\", \n",
    "    max_token_limit=100, \n",
    "    human_prefix = \"\", \n",
    "    ai_prefix = \"\"\n",
    ")\n",
    "\n",
    "# stuff chain\n",
    "qa_chain = load_qa_chain(llm=llm, chain_type=\"stuff\", prompt=QA_CHAIN_PROMPT, verbose=True, memory=memory)"
   ]
  },
  {
   "cell_type": "markdown",
   "metadata": {},
   "source": [
    "## Example Chat"
   ]
  },
  {
   "cell_type": "code",
   "execution_count": 9,
   "metadata": {},
   "outputs": [],
   "source": [
    "from IPython.display import HTML\n",
    "\n",
    "def display_result(question, result, similar_docs, chat_history):\n",
    "    result_html = f\"<p><blockquote style=\\\"font-size:24px\\\">{question}</blockquote></p>\"\n",
    "    result_html += f\"<p><blockquote style=\\\"font-size:18px\\\">{result}</blockquote></p>\"\n",
    "    result_html += \"<p><hr/></p>\"\n",
    "    for d in similar_docs:\n",
    "        source_id = d.metadata[\"id\"]\n",
    "        result_html += f\"<p><blockquote>{d.page_content}<br/>(Source: {source_id})</blockquote></p>\"\n",
    "    result_html += \"<p><hr/></p>\"\n",
    "    result_html += \"<p><blockquote style=\\\"font-size:24px\\\">Summarized Chat History</blockquote></p>\"\n",
    "    result_html += f\"<p><blockquote>{chat_history}</blockquote></p>\"\n",
    "\n",
    "    display(HTML(result_html))"
   ]
  },
  {
   "cell_type": "markdown",
   "metadata": {},
   "source": [
    "### What are people saying about Robinhood?"
   ]
  },
  {
   "cell_type": "code",
   "execution_count": 10,
   "metadata": {},
   "outputs": [
    {
     "name": "stdout",
     "output_type": "stream",
     "text": [
      "huggingface/tokenizers: The current process just got forked, after parallelism has already been used. Disabling parallelism to avoid deadlocks...\n",
      "To disable this warning, you can either:\n",
      "\t- Avoid using `tokenizers` before the fork if possible\n",
      "\t- Explicitly set the environment variable TOKENIZERS_PARALLELISM=(true | false)\n",
      "\n",
      "\n",
      "\u001b[1m> Entering new StuffDocumentsChain chain...\u001b[0m\n",
      "\n",
      "\n",
      "\u001b[1m> Entering new LLMChain chain...\u001b[0m\n",
      "Prompt after formatting:\n",
      "\u001b[32;1m\u001b[1;3mYou are a chatbot having a conversation with a human. \n",
      "Use the following pieces of context to answer the question at the end. \n",
      "If you don't know the answer, just say that you don't know, don't try to make up an answer. \n",
      "Use three sentences maximum and keep the answer as concise as possible. \n",
      "\n",
      "CLASS ACTION AGAINST ROBINHOOD. Allowing people to only sell is the definition of market manipulation. A class action must be started, Robinhood has made plenty of money off selling info about our trades to the hedge funds to be able to pay out a little for causing people to loose money now/n/nLEAVE ROBINHOOD. They dont deserve to make money off us after the millions they caused in losses. It might take a couple of days, but send Robinhood to the ground and GME to the moon./n/nChapman Albin is an investors rights firm that my buddy works at. Just got off the phone w him. He is going to post a press release regarding the case they are filing. \n",
      "Let me know if you need help finding a lawyer. \n",
      "Disclaimer: I’m not getting anything out of this\n",
      "\n",
      "Is there a better sub where comments aren’t hidden 99.9% of the time?/n/nSo often someone will ask an amazing question, something I’m really interested in getting a good answer to, or even someone’s opinion, but I always just see that message explaining that comments need to be approved. \n",
      "\n",
      "99.9% is an exaggeration, but not many people are going to come back to look at a post to see if any comments have been approved./n/nI someone were to make a good alternative then I'd be very happy about it. It can take ages moderating this sub. I'm sure lots of the other mods think the same.\n",
      "\n",
      "The fundamental problem is though that loads of people who don't know about economic write replies. All sorts of bullshit gets written. The problem then is you'd have to know about economics to distinguish the bullshit from the truth.\n",
      "\n",
      "If someone can think of a good way of solving this I'd be very happy.\n",
      "\n",
      "Wallstreet Bets Set to Private Megathread/n/nThe moderators there have made that sub private before. That’s why this sub was created. It’ll probably open back up soon. Calm down.\n",
      "\n",
      "Edit: It's open again. Told you guys./n/nYou there. Yeah you. The person reading this comment. Calm the fuck down. Seriously. You already know what you have to do. Hold that dang line. Wall Street is pulling out all the stops to make us wanna bail and sell our shares. Don’t give into them. Hold $GME. Don’t let them off the hook. We are in this together and it only works if we are TOGETHER. Don’t worry about the server or the discord. This was honestly to be expected. It’s a good sign not a bad sign. We are breaking the system lol and soon we will be paid for it.\n",
      "\n",
      "Obligatory 🚀\n",
      "\n",
      "\n",
      "\n",
      "Question: What are people saying about Robinhood?\n",
      "\n",
      "Helpful Answer:\u001b[0m\n",
      "\n",
      "\u001b[1m> Finished chain.\u001b[0m\n",
      "\n",
      "\u001b[1m> Finished chain.\u001b[0m\n"
     ]
    },
    {
     "data": {
      "text/html": [
       "<p><blockquote style=\"font-size:24px\">What are people saying about Robinhood?</blockquote></p><p><blockquote style=\"font-size:18px\"> People are very angry with Robinhood for allowing people to only sell, which is the definition of market manipulation. They don't think Robinhood should make money off of them after the losses they caused, and some are looking for a lawyer to start a class action against them.</blockquote></p><p><hr/></p><p><blockquote>CLASS ACTION AGAINST ROBINHOOD. Allowing people to only sell is the definition of market manipulation. A class action must be started, Robinhood has made plenty of money off selling info about our trades to the hedge funds to be able to pay out a little for causing people to loose money now/n/nLEAVE ROBINHOOD. They dont deserve to make money off us after the millions they caused in losses. It might take a couple of days, but send Robinhood to the ground and GME to the moon./n/nChapman Albin is an investors rights firm that my buddy works at. Just got off the phone w him. He is going to post a press release regarding the case they are filing. \n",
       "Let me know if you need help finding a lawyer. \n",
       "Disclaimer: I’m not getting anything out of this<br/>(Source: l6x130)</blockquote></p><p><blockquote>Is there a better sub where comments aren’t hidden 99.9% of the time?/n/nSo often someone will ask an amazing question, something I’m really interested in getting a good answer to, or even someone’s opinion, but I always just see that message explaining that comments need to be approved. \n",
       "\n",
       "99.9% is an exaggeration, but not many people are going to come back to look at a post to see if any comments have been approved./n/nI someone were to make a good alternative then I'd be very happy about it. It can take ages moderating this sub. I'm sure lots of the other mods think the same.\n",
       "\n",
       "The fundamental problem is though that loads of people who don't know about economic write replies. All sorts of bullshit gets written. The problem then is you'd have to know about economics to distinguish the bullshit from the truth.\n",
       "\n",
       "If someone can think of a good way of solving this I'd be very happy.<br/>(Source: m3g13g)</blockquote></p><p><blockquote>Wallstreet Bets Set to Private Megathread/n/nThe moderators there have made that sub private before. That’s why this sub was created. It’ll probably open back up soon. Calm down.\n",
       "\n",
       "Edit: It's open again. Told you guys./n/nYou there. Yeah you. The person reading this comment. Calm the fuck down. Seriously. You already know what you have to do. Hold that dang line. Wall Street is pulling out all the stops to make us wanna bail and sell our shares. Don’t give into them. Hold $GME. Don’t let them off the hook. We are in this together and it only works if we are TOGETHER. Don’t worry about the server or the discord. This was honestly to be expected. It’s a good sign not a bad sign. We are breaking the system lol and soon we will be paid for it.\n",
       "\n",
       "Obligatory 🚀<br/>(Source: l6i4t3)</blockquote></p><p><hr/></p><p><blockquote style=\"font-size:24px\">Summarized Chat History</blockquote></p><p><blockquote></blockquote></p>"
      ],
      "text/plain": [
       "<IPython.core.display.HTML object>"
      ]
     },
     "metadata": {},
     "output_type": "display_data"
    }
   ],
   "source": [
    "query = \"What are people saying about Robinhood?\"\n",
    "similar_docs = db.max_marginal_relevance_search(query, k=3, fetch_k=10)\n",
    "result = qa_chain({\"input_documents\":similar_docs, \"human_input\":query})\n",
    "display_result(result[\"human_input\"], result[\"output_text\"], result[\"input_documents\"], result[\"chat_history\"])"
   ]
  },
  {
   "cell_type": "markdown",
   "metadata": {},
   "source": [
    "### And so is it still safe to use?"
   ]
  },
  {
   "cell_type": "code",
   "execution_count": 11,
   "metadata": {},
   "outputs": [
    {
     "name": "stdout",
     "output_type": "stream",
     "text": [
      "\n",
      "\n",
      "\u001b[1m> Entering new StuffDocumentsChain chain...\u001b[0m\n",
      "\n",
      "\n",
      "\u001b[1m> Entering new LLMChain chain...\u001b[0m\n",
      "Prompt after formatting:\n",
      "\u001b[32;1m\u001b[1;3mYou are a chatbot having a conversation with a human. \n",
      "Use the following pieces of context to answer the question at the end. \n",
      "If you don't know the answer, just say that you don't know, don't try to make up an answer. \n",
      "Use three sentences maximum and keep the answer as concise as possible. \n",
      "\n",
      "Wallstreet Bets Set to Private Megathread/n/nThe moderators there have made that sub private before. That’s why this sub was created. It’ll probably open back up soon. Calm down.\n",
      "\n",
      "Edit: It's open again. Told you guys./n/nYou there. Yeah you. The person reading this comment. Calm the fuck down. Seriously. You already know what you have to do. Hold that dang line. Wall Street is pulling out all the stops to make us wanna bail and sell our shares. Don’t give into them. Hold $GME. Don’t let them off the hook. We are in this together and it only works if we are TOGETHER. Don’t worry about the server or the discord. This was honestly to be expected. It’s a good sign not a bad sign. We are breaking the system lol and soon we will be paid for it.\n",
      "\n",
      "Obligatory 🚀\n",
      "\n",
      "Is there a better sub where comments aren’t hidden 99.9% of the time?/n/nSo often someone will ask an amazing question, something I’m really interested in getting a good answer to, or even someone’s opinion, but I always just see that message explaining that comments need to be approved. \n",
      "\n",
      "99.9% is an exaggeration, but not many people are going to come back to look at a post to see if any comments have been approved./n/nI someone were to make a good alternative then I'd be very happy about it. It can take ages moderating this sub. I'm sure lots of the other mods think the same.\n",
      "\n",
      "The fundamental problem is though that loads of people who don't know about economic write replies. All sorts of bullshit gets written. The problem then is you'd have to know about economics to distinguish the bullshit from the truth.\n",
      "\n",
      "If someone can think of a good way of solving this I'd be very happy.\n",
      "\n",
      "CLASS ACTION AGAINST ROBINHOOD. Allowing people to only sell is the definition of market manipulation. A class action must be started, Robinhood has made plenty of money off selling info about our trades to the hedge funds to be able to pay out a little for causing people to loose money now/n/nLEAVE ROBINHOOD. They dont deserve to make money off us after the millions they caused in losses. It might take a couple of days, but send Robinhood to the ground and GME to the moon./n/nChapman Albin is an investors rights firm that my buddy works at. Just got off the phone w him. He is going to post a press release regarding the case they are filing. \n",
      "Let me know if you need help finding a lawyer. \n",
      "Disclaimer: I’m not getting anything out of this\n",
      "\n",
      ": What are people saying about Robinhood?\n",
      ":  People are very angry with Robinhood for allowing people to only sell, which is the definition of market manipulation. They don't think Robinhood should make money off of them after the losses they caused, and some are looking for a lawyer to start a class action against them.\n",
      "\n",
      "Question: And so is it still safe to use?\n",
      "\n",
      "Helpful Answer:\u001b[0m\n",
      "\n",
      "\u001b[1m> Finished chain.\u001b[0m\n",
      "\n",
      "\u001b[1m> Finished chain.\u001b[0m\n"
     ]
    },
    {
     "data": {
      "text/html": [
       "<p><blockquote style=\"font-size:24px\">And so is it still safe to use?</blockquote></p><p><blockquote style=\"font-size:18px\"> It depends on what you are using it for. Robinhood is still a trading platform, so it is safe to use in that sense. However, many people are expressing their dissatisfaction with Robinhood and some are looking to take legal action against them. You may want to consider other alternatives if you are concerned.</blockquote></p><p><hr/></p><p><blockquote>Wallstreet Bets Set to Private Megathread/n/nThe moderators there have made that sub private before. That’s why this sub was created. It’ll probably open back up soon. Calm down.\n",
       "\n",
       "Edit: It's open again. Told you guys./n/nYou there. Yeah you. The person reading this comment. Calm the fuck down. Seriously. You already know what you have to do. Hold that dang line. Wall Street is pulling out all the stops to make us wanna bail and sell our shares. Don’t give into them. Hold $GME. Don’t let them off the hook. We are in this together and it only works if we are TOGETHER. Don’t worry about the server or the discord. This was honestly to be expected. It’s a good sign not a bad sign. We are breaking the system lol and soon we will be paid for it.\n",
       "\n",
       "Obligatory 🚀<br/>(Source: l6i4t3)</blockquote></p><p><blockquote>Is there a better sub where comments aren’t hidden 99.9% of the time?/n/nSo often someone will ask an amazing question, something I’m really interested in getting a good answer to, or even someone’s opinion, but I always just see that message explaining that comments need to be approved. \n",
       "\n",
       "99.9% is an exaggeration, but not many people are going to come back to look at a post to see if any comments have been approved./n/nI someone were to make a good alternative then I'd be very happy about it. It can take ages moderating this sub. I'm sure lots of the other mods think the same.\n",
       "\n",
       "The fundamental problem is though that loads of people who don't know about economic write replies. All sorts of bullshit gets written. The problem then is you'd have to know about economics to distinguish the bullshit from the truth.\n",
       "\n",
       "If someone can think of a good way of solving this I'd be very happy.<br/>(Source: m3g13g)</blockquote></p><p><blockquote>CLASS ACTION AGAINST ROBINHOOD. Allowing people to only sell is the definition of market manipulation. A class action must be started, Robinhood has made plenty of money off selling info about our trades to the hedge funds to be able to pay out a little for causing people to loose money now/n/nLEAVE ROBINHOOD. They dont deserve to make money off us after the millions they caused in losses. It might take a couple of days, but send Robinhood to the ground and GME to the moon./n/nChapman Albin is an investors rights firm that my buddy works at. Just got off the phone w him. He is going to post a press release regarding the case they are filing. \n",
       "Let me know if you need help finding a lawyer. \n",
       "Disclaimer: I’m not getting anything out of this<br/>(Source: l6x130)</blockquote></p><p><hr/></p><p><blockquote style=\"font-size:24px\">Summarized Chat History</blockquote></p><p><blockquote>: What are people saying about Robinhood?\n",
       ":  People are very angry with Robinhood for allowing people to only sell, which is the definition of market manipulation. They don't think Robinhood should make money off of them after the losses they caused, and some are looking for a lawyer to start a class action against them.</blockquote></p>"
      ],
      "text/plain": [
       "<IPython.core.display.HTML object>"
      ]
     },
     "metadata": {},
     "output_type": "display_data"
    }
   ],
   "source": [
    "query = \"And so is it still safe to use?\"\n",
    "similar_docs = db.max_marginal_relevance_search(query, k=3, fetch_k=10)\n",
    "result = qa_chain({\"input_documents\":similar_docs, \"human_input\":query})\n",
    "display_result(result[\"human_input\"], result[\"output_text\"], result[\"input_documents\"], result[\"chat_history\"])"
   ]
  },
  {
   "cell_type": "markdown",
   "metadata": {},
   "source": [
    "### What are some safe investment alternatives that you would recommend?"
   ]
  },
  {
   "cell_type": "code",
   "execution_count": 12,
   "metadata": {},
   "outputs": [
    {
     "name": "stdout",
     "output_type": "stream",
     "text": [
      "\n",
      "\n",
      "\u001b[1m> Entering new StuffDocumentsChain chain...\u001b[0m\n",
      "\n",
      "\n",
      "\u001b[1m> Entering new LLMChain chain...\u001b[0m\n",
      "Prompt after formatting:\n",
      "\u001b[32;1m\u001b[1;3mYou are a chatbot having a conversation with a human. \n",
      "Use the following pieces of context to answer the question at the end. \n",
      "If you don't know the answer, just say that you don't know, don't try to make up an answer. \n",
      "Use three sentences maximum and keep the answer as concise as possible. \n",
      "\n",
      "CLASS ACTION AGAINST ROBINHOOD. Allowing people to only sell is the definition of market manipulation. A class action must be started, Robinhood has made plenty of money off selling info about our trades to the hedge funds to be able to pay out a little for causing people to loose money now/n/nLEAVE ROBINHOOD. They dont deserve to make money off us after the millions they caused in losses. It might take a couple of days, but send Robinhood to the ground and GME to the moon./n/nChapman Albin is an investors rights firm that my buddy works at. Just got off the phone w him. He is going to post a press release regarding the case they are filing. \n",
      "Let me know if you need help finding a lawyer. \n",
      "Disclaimer: I’m not getting anything out of this\n",
      "\n",
      "Is there a better sub where comments aren’t hidden 99.9% of the time?/n/nSo often someone will ask an amazing question, something I’m really interested in getting a good answer to, or even someone’s opinion, but I always just see that message explaining that comments need to be approved. \n",
      "\n",
      "99.9% is an exaggeration, but not many people are going to come back to look at a post to see if any comments have been approved./n/nI someone were to make a good alternative then I'd be very happy about it. It can take ages moderating this sub. I'm sure lots of the other mods think the same.\n",
      "\n",
      "The fundamental problem is though that loads of people who don't know about economic write replies. All sorts of bullshit gets written. The problem then is you'd have to know about economics to distinguish the bullshit from the truth.\n",
      "\n",
      "If someone can think of a good way of solving this I'd be very happy.\n",
      "\n",
      "Wallstreet Bets Set to Private Megathread/n/nThe moderators there have made that sub private before. That’s why this sub was created. It’ll probably open back up soon. Calm down.\n",
      "\n",
      "Edit: It's open again. Told you guys./n/nYou there. Yeah you. The person reading this comment. Calm the fuck down. Seriously. You already know what you have to do. Hold that dang line. Wall Street is pulling out all the stops to make us wanna bail and sell our shares. Don’t give into them. Hold $GME. Don’t let them off the hook. We are in this together and it only works if we are TOGETHER. Don’t worry about the server or the discord. This was honestly to be expected. It’s a good sign not a bad sign. We are breaking the system lol and soon we will be paid for it.\n",
      "\n",
      "Obligatory 🚀\n",
      "\n",
      "System:  \n",
      "The human asks what people are saying about Robinhood. People are very angry with Robinhood for allowing people to only sell, which is the definition of market manipulation. They don't think Robinhood should make money off of them after the losses they caused, and some are looking for a lawyer to start a class action against them.\n",
      ": And so is it still safe to use?\n",
      ":  It depends on what you are using it for. Robinhood is still a trading platform, so it is safe to use in that sense. However, many people are expressing their dissatisfaction with Robinhood and some are looking to take legal action against them. You may want to consider other alternatives if you are concerned.\n",
      "\n",
      "Question: What are some safe investment alternatives that you would recommend?\n",
      "\n",
      "Helpful Answer:\u001b[0m\n",
      "\n",
      "\u001b[1m> Finished chain.\u001b[0m\n",
      "\n",
      "\u001b[1m> Finished chain.\u001b[0m\n"
     ]
    },
    {
     "data": {
      "text/html": [
       "<p><blockquote style=\"font-size:24px\">What are some safe investment alternatives that you would recommend?</blockquote></p><p><blockquote style=\"font-size:18px\"> I recommend researching different online brokers and looking for investments that have low fees and a good track record of returns. You could also consider investing in index funds or ETFs, which provide a low-cost, diversified portfolio. Lastly, you may want to look into investing in a Robo-advisor, which uses algorithms to provide automated investment advice.</blockquote></p><p><hr/></p><p><blockquote>CLASS ACTION AGAINST ROBINHOOD. Allowing people to only sell is the definition of market manipulation. A class action must be started, Robinhood has made plenty of money off selling info about our trades to the hedge funds to be able to pay out a little for causing people to loose money now/n/nLEAVE ROBINHOOD. They dont deserve to make money off us after the millions they caused in losses. It might take a couple of days, but send Robinhood to the ground and GME to the moon./n/nChapman Albin is an investors rights firm that my buddy works at. Just got off the phone w him. He is going to post a press release regarding the case they are filing. \n",
       "Let me know if you need help finding a lawyer. \n",
       "Disclaimer: I’m not getting anything out of this<br/>(Source: l6x130)</blockquote></p><p><blockquote>Is there a better sub where comments aren’t hidden 99.9% of the time?/n/nSo often someone will ask an amazing question, something I’m really interested in getting a good answer to, or even someone’s opinion, but I always just see that message explaining that comments need to be approved. \n",
       "\n",
       "99.9% is an exaggeration, but not many people are going to come back to look at a post to see if any comments have been approved./n/nI someone were to make a good alternative then I'd be very happy about it. It can take ages moderating this sub. I'm sure lots of the other mods think the same.\n",
       "\n",
       "The fundamental problem is though that loads of people who don't know about economic write replies. All sorts of bullshit gets written. The problem then is you'd have to know about economics to distinguish the bullshit from the truth.\n",
       "\n",
       "If someone can think of a good way of solving this I'd be very happy.<br/>(Source: m3g13g)</blockquote></p><p><blockquote>Wallstreet Bets Set to Private Megathread/n/nThe moderators there have made that sub private before. That’s why this sub was created. It’ll probably open back up soon. Calm down.\n",
       "\n",
       "Edit: It's open again. Told you guys./n/nYou there. Yeah you. The person reading this comment. Calm the fuck down. Seriously. You already know what you have to do. Hold that dang line. Wall Street is pulling out all the stops to make us wanna bail and sell our shares. Don’t give into them. Hold $GME. Don’t let them off the hook. We are in this together and it only works if we are TOGETHER. Don’t worry about the server or the discord. This was honestly to be expected. It’s a good sign not a bad sign. We are breaking the system lol and soon we will be paid for it.\n",
       "\n",
       "Obligatory 🚀<br/>(Source: l6i4t3)</blockquote></p><p><hr/></p><p><blockquote style=\"font-size:24px\">Summarized Chat History</blockquote></p><p><blockquote>System:  \n",
       "The human asks what people are saying about Robinhood. People are very angry with Robinhood for allowing people to only sell, which is the definition of market manipulation. They don't think Robinhood should make money off of them after the losses they caused, and some are looking for a lawyer to start a class action against them.\n",
       ": And so is it still safe to use?\n",
       ":  It depends on what you are using it for. Robinhood is still a trading platform, so it is safe to use in that sense. However, many people are expressing their dissatisfaction with Robinhood and some are looking to take legal action against them. You may want to consider other alternatives if you are concerned.</blockquote></p>"
      ],
      "text/plain": [
       "<IPython.core.display.HTML object>"
      ]
     },
     "metadata": {},
     "output_type": "display_data"
    }
   ],
   "source": [
    "query = \"What are some safe investment alternatives that you would recommend?\"\n",
    "similar_docs = db.max_marginal_relevance_search(query, k=3, fetch_k=10)\n",
    "result = qa_chain({\"input_documents\":similar_docs, \"human_input\":query})\n",
    "display_result(result[\"human_input\"], result[\"output_text\"], result[\"input_documents\"], result[\"chat_history\"])"
   ]
  },
  {
   "cell_type": "markdown",
   "metadata": {},
   "source": [
    "### Ok thank you for the recommendations.  In addition, could you recommend a safe strategy for stock investments?"
   ]
  },
  {
   "cell_type": "code",
   "execution_count": 13,
   "metadata": {},
   "outputs": [
    {
     "name": "stdout",
     "output_type": "stream",
     "text": [
      "\n",
      "\n",
      "\u001b[1m> Entering new StuffDocumentsChain chain...\u001b[0m\n",
      "\n",
      "\n",
      "\u001b[1m> Entering new LLMChain chain...\u001b[0m\n",
      "Prompt after formatting:\n",
      "\u001b[32;1m\u001b[1;3mYou are a chatbot having a conversation with a human. \n",
      "Use the following pieces of context to answer the question at the end. \n",
      "If you don't know the answer, just say that you don't know, don't try to make up an answer. \n",
      "Use three sentences maximum and keep the answer as concise as possible. \n",
      "\n",
      "CLASS ACTION AGAINST ROBINHOOD. Allowing people to only sell is the definition of market manipulation. A class action must be started, Robinhood has made plenty of money off selling info about our trades to the hedge funds to be able to pay out a little for causing people to loose money now/n/nLEAVE ROBINHOOD. They dont deserve to make money off us after the millions they caused in losses. It might take a couple of days, but send Robinhood to the ground and GME to the moon./n/nChapman Albin is an investors rights firm that my buddy works at. Just got off the phone w him. He is going to post a press release regarding the case they are filing. \n",
      "Let me know if you need help finding a lawyer. \n",
      "Disclaimer: I’m not getting anything out of this\n",
      "\n",
      "Is there a better sub where comments aren’t hidden 99.9% of the time?/n/nSo often someone will ask an amazing question, something I’m really interested in getting a good answer to, or even someone’s opinion, but I always just see that message explaining that comments need to be approved. \n",
      "\n",
      "99.9% is an exaggeration, but not many people are going to come back to look at a post to see if any comments have been approved./n/nI someone were to make a good alternative then I'd be very happy about it. It can take ages moderating this sub. I'm sure lots of the other mods think the same.\n",
      "\n",
      "The fundamental problem is though that loads of people who don't know about economic write replies. All sorts of bullshit gets written. The problem then is you'd have to know about economics to distinguish the bullshit from the truth.\n",
      "\n",
      "If someone can think of a good way of solving this I'd be very happy.\n",
      "\n",
      "Wallstreet Bets Set to Private Megathread/n/nThe moderators there have made that sub private before. That’s why this sub was created. It’ll probably open back up soon. Calm down.\n",
      "\n",
      "Edit: It's open again. Told you guys./n/nYou there. Yeah you. The person reading this comment. Calm the fuck down. Seriously. You already know what you have to do. Hold that dang line. Wall Street is pulling out all the stops to make us wanna bail and sell our shares. Don’t give into them. Hold $GME. Don’t let them off the hook. We are in this together and it only works if we are TOGETHER. Don’t worry about the server or the discord. This was honestly to be expected. It’s a good sign not a bad sign. We are breaking the system lol and soon we will be paid for it.\n",
      "\n",
      "Obligatory 🚀\n",
      "\n",
      "System: \n",
      "The human asks what people are saying about Robinhood. People are very angry with Robinhood for allowing people to only sell, which is the definition of market manipulation. They don't think Robinhood should make money off of them after the losses they caused, and some are looking for a lawyer to start a class action against them. When asked if it is still safe to use, the AI says it depends on what it is being used for, but many people are expressing dissatisfaction and some are looking to take legal action, so other alternatives may need to be considered.\n",
      ": What are some safe investment alternatives that you would recommend?\n",
      ":  I recommend researching different online brokers and looking for investments that have low fees and a good track record of returns. You could also consider investing in index funds or ETFs, which provide a low-cost, diversified portfolio. Lastly, you may want to look into investing in a Robo-advisor, which uses algorithms to provide automated investment advice.\n",
      "\n",
      "Question: Ok thank you for the recommendations.  In addition, could you recommend a safe strategy for stock investments?\n",
      "\n",
      "Helpful Answer:\u001b[0m\n",
      "\n",
      "\u001b[1m> Finished chain.\u001b[0m\n",
      "\n",
      "\u001b[1m> Finished chain.\u001b[0m\n"
     ]
    },
    {
     "data": {
      "text/html": [
       "<p><blockquote style=\"font-size:24px\">Ok thank you for the recommendations.  In addition, could you recommend a safe strategy for stock investments?</blockquote></p><p><blockquote style=\"font-size:18px\"> I recommend researching different strategies and finding one that best fits your risk tolerance and investment goals. You could start with something simple like dollar cost averaging, which involves investing a fixed amount of money at regular intervals. Another option could be value investing, which involves buying stocks when they are undervalued and selling them when they are overvalued. Lastly, you could consider investing in options, which can help you manage your risk while still allowing you to take advantage of potential gains in the stock market.</blockquote></p><p><hr/></p><p><blockquote>CLASS ACTION AGAINST ROBINHOOD. Allowing people to only sell is the definition of market manipulation. A class action must be started, Robinhood has made plenty of money off selling info about our trades to the hedge funds to be able to pay out a little for causing people to loose money now/n/nLEAVE ROBINHOOD. They dont deserve to make money off us after the millions they caused in losses. It might take a couple of days, but send Robinhood to the ground and GME to the moon./n/nChapman Albin is an investors rights firm that my buddy works at. Just got off the phone w him. He is going to post a press release regarding the case they are filing. \n",
       "Let me know if you need help finding a lawyer. \n",
       "Disclaimer: I’m not getting anything out of this<br/>(Source: l6x130)</blockquote></p><p><blockquote>Is there a better sub where comments aren’t hidden 99.9% of the time?/n/nSo often someone will ask an amazing question, something I’m really interested in getting a good answer to, or even someone’s opinion, but I always just see that message explaining that comments need to be approved. \n",
       "\n",
       "99.9% is an exaggeration, but not many people are going to come back to look at a post to see if any comments have been approved./n/nI someone were to make a good alternative then I'd be very happy about it. It can take ages moderating this sub. I'm sure lots of the other mods think the same.\n",
       "\n",
       "The fundamental problem is though that loads of people who don't know about economic write replies. All sorts of bullshit gets written. The problem then is you'd have to know about economics to distinguish the bullshit from the truth.\n",
       "\n",
       "If someone can think of a good way of solving this I'd be very happy.<br/>(Source: m3g13g)</blockquote></p><p><blockquote>Wallstreet Bets Set to Private Megathread/n/nThe moderators there have made that sub private before. That’s why this sub was created. It’ll probably open back up soon. Calm down.\n",
       "\n",
       "Edit: It's open again. Told you guys./n/nYou there. Yeah you. The person reading this comment. Calm the fuck down. Seriously. You already know what you have to do. Hold that dang line. Wall Street is pulling out all the stops to make us wanna bail and sell our shares. Don’t give into them. Hold $GME. Don’t let them off the hook. We are in this together and it only works if we are TOGETHER. Don’t worry about the server or the discord. This was honestly to be expected. It’s a good sign not a bad sign. We are breaking the system lol and soon we will be paid for it.\n",
       "\n",
       "Obligatory 🚀<br/>(Source: l6i4t3)</blockquote></p><p><hr/></p><p><blockquote style=\"font-size:24px\">Summarized Chat History</blockquote></p><p><blockquote>System: \n",
       "The human asks what people are saying about Robinhood. People are very angry with Robinhood for allowing people to only sell, which is the definition of market manipulation. They don't think Robinhood should make money off of them after the losses they caused, and some are looking for a lawyer to start a class action against them. When asked if it is still safe to use, the AI says it depends on what it is being used for, but many people are expressing dissatisfaction and some are looking to take legal action, so other alternatives may need to be considered.\n",
       ": What are some safe investment alternatives that you would recommend?\n",
       ":  I recommend researching different online brokers and looking for investments that have low fees and a good track record of returns. You could also consider investing in index funds or ETFs, which provide a low-cost, diversified portfolio. Lastly, you may want to look into investing in a Robo-advisor, which uses algorithms to provide automated investment advice.</blockquote></p>"
      ],
      "text/plain": [
       "<IPython.core.display.HTML object>"
      ]
     },
     "metadata": {},
     "output_type": "display_data"
    }
   ],
   "source": [
    "query = \"Ok thank you for the recommendations.  In addition, could you recommend a safe strategy for stock investments?\"\n",
    "similar_docs = db.max_marginal_relevance_search(query, k=3, fetch_k=10)\n",
    "result = qa_chain({\"input_documents\":similar_docs, \"human_input\":query})\n",
    "display_result(result[\"human_input\"], result[\"output_text\"], result[\"input_documents\"], result[\"chat_history\"])"
   ]
  }
 ],
 "metadata": {
  "kernelspec": {
   "display_name": ".venv",
   "language": "python",
   "name": "python3"
  },
  "language_info": {
   "codemirror_mode": {
    "name": "ipython",
    "version": 3
   },
   "file_extension": ".py",
   "mimetype": "text/x-python",
   "name": "python",
   "nbconvert_exporter": "python",
   "pygments_lexer": "ipython3",
   "version": "3.11.1"
  },
  "orig_nbformat": 4
 },
 "nbformat": 4,
 "nbformat_minor": 2
}
