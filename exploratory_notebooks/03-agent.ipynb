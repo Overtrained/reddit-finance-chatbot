{
 "cells": [
  {
   "cell_type": "markdown",
   "metadata": {},
   "source": [
    "# Purpose\n",
    "The purpose of this notebook is to explore the usage of a Conversational Retrieval Agent from `langchain` for our use case.  The agent will allow the LLM to determine when to query the database and when not to.  I'm mainly working from the following examples: [example from documentation](https://python.langchain.com/docs/use_cases/question_answering/how_to/conversational_retrieval_agents), [blog post example](https://blog.langchain.dev/conversational-retrieval-agents/).\n",
    "\n",
    "# Vector Store"
   ]
  },
  {
   "cell_type": "code",
   "execution_count": 1,
   "metadata": {},
   "outputs": [],
   "source": [
    "from langchain.embeddings import HuggingFaceEmbeddings\n",
    "from langchain.vectorstores import FAISS\n",
    "\n",
    "model_name = \"sentence-transformers/all-mpnet-base-v2\"\n",
    "model_kwargs = {'device': 'cpu'}\n",
    "encode_kwargs = {'normalize_embeddings': False}\n",
    "embeddings = HuggingFaceEmbeddings(\n",
    "    model_name=model_name,\n",
    "    model_kwargs=model_kwargs,\n",
    "    encode_kwargs=encode_kwargs\n",
    ")\n",
    "\n",
    "db = FAISS.load_local(\"data/vector-db/\", embeddings)"
   ]
  },
  {
   "cell_type": "markdown",
   "metadata": {},
   "source": [
    "# Retriever Tool\n",
    "We need to define a retriever tool for the LLM to use to retrieve context.  The name and description of the tool are important because they are used by the LLM to determine when to use the tool."
   ]
  },
  {
   "cell_type": "code",
   "execution_count": 2,
   "metadata": {},
   "outputs": [],
   "source": [
    "from langchain.agents.agent_toolkits import create_retriever_tool\n",
    "\n",
    "tool = create_retriever_tool(\n",
    "    db.as_retriever(), \n",
    "    \"search_finance_opinions\",\n",
    "    \"Searches and returns documents regarding Reddit user's opinions on topics related to finance and investing.\"\n",
    ")\n",
    "tools = [tool]"
   ]
  },
  {
   "cell_type": "markdown",
   "metadata": {},
   "source": [
    "# Simple Agent Example\n",
    "\n",
    "Here I'll use the built-in `create_conversational_retrieval_agent` from langchain, which just needs the tool provided above along with an LLM to use.  The agent uses `OpenAIFunctionsAgent` so I'll use an OpenAI chat model as the LLM."
   ]
  },
  {
   "cell_type": "code",
   "execution_count": 3,
   "metadata": {},
   "outputs": [],
   "source": [
    "import toml\n",
    "import os\n",
    "\n",
    "os.environ[\"OPENAI_API_KEY\"] = toml.load(\"secrets.toml\")[\"OPENAI_API_TOKEN\"]"
   ]
  },
  {
   "cell_type": "code",
   "execution_count": 4,
   "metadata": {},
   "outputs": [],
   "source": [
    "from langchain.agents.agent_toolkits import create_conversational_retrieval_agent\n",
    "from langchain.chat_models import ChatOpenAI\n",
    "\n",
    "llm = ChatOpenAI(temperature = 0)\n",
    "agent_executor = create_conversational_retrieval_agent(llm, tools, verbose=True)"
   ]
  },
  {
   "cell_type": "markdown",
   "metadata": {},
   "source": [
    "## Test Chat\n",
    "\n",
    "Now I can test it out and monitor the decision making."
   ]
  },
  {
   "cell_type": "code",
   "execution_count": 5,
   "metadata": {},
   "outputs": [
    {
     "name": "stdout",
     "output_type": "stream",
     "text": [
      "\n",
      "\n",
      "\u001b[1m> Entering new AgentExecutor chain...\u001b[0m\n",
      "\u001b[32;1m\u001b[1;3mHi Coy! I'm here to help. What kind of advice are you looking for?\u001b[0m\n",
      "\n",
      "\u001b[1m> Finished chain.\u001b[0m\n"
     ]
    },
    {
     "data": {
      "text/plain": [
       "{'input': \"Hi my name is Coy and I'd like some advice.\",\n",
       " 'chat_history': [HumanMessage(content=\"Hi my name is Coy and I'd like some advice.\", additional_kwargs={}, example=False),\n",
       "  AIMessage(content=\"Hi Coy! I'm here to help. What kind of advice are you looking for?\", additional_kwargs={}, example=False)],\n",
       " 'output': \"Hi Coy! I'm here to help. What kind of advice are you looking for?\",\n",
       " 'intermediate_steps': []}"
      ]
     },
     "execution_count": 5,
     "metadata": {},
     "output_type": "execute_result"
    }
   ],
   "source": [
    "result = agent_executor({\"input\":\"Hi my name is Coy and I'd like some advice.\"})\n",
    "result"
   ]
  },
  {
   "cell_type": "code",
   "execution_count": 6,
   "metadata": {},
   "outputs": [
    {
     "name": "stdout",
     "output_type": "stream",
     "text": [
      "\n",
      "\n",
      "\u001b[1m> Entering new AgentExecutor chain...\u001b[0m\n",
      "\u001b[32;1m\u001b[1;3m\n",
      "Invoking: `search_finance_opinions` with `{'arg1': 'Robinhood'}`\n",
      "\n",
      "\n",
      "\u001b[0m\u001b[36;1m\u001b[1;3m[Document(page_content='CLASS ACTION AGAINST ROBINHOOD. Allowing people to only sell is the definition of market manipulation. A class action must be started, Robinhood has made plenty of money off selling info about our trades to the hedge funds to be able to pay out a little for causing people to loose money now/n/nLEAVE ROBINHOOD. They dont deserve to make money off us after the millions they caused in losses. It might take a couple of days, but send Robinhood to the ground and GME to the moon./n/nChapman Albin is an investors rights firm that my buddy works at. Just got off the phone w him. He is going to post a press release regarding the case they are filing. \\nLet me know if you need help finding a lawyer. \\nDisclaimer: I’m not getting anything out of this', metadata={'id': 'l6x130'}), Document(page_content=\"Wallstreet Bets Set to Private Megathread/n/nThe moderators there have made that sub private before. That’s why this sub was created. It’ll probably open back up soon. Calm down.\\n\\nEdit: It's open again. Told you guys./n/nYou there. Yeah you. The person reading this comment. Calm the fuck down. Seriously. You already know what you have to do. Hold that dang line. Wall Street is pulling out all the stops to make us wanna bail and sell our shares. Don’t give into them. Hold $GME. Don’t let them off the hook. We are in this together and it only works if we are TOGETHER. Don’t worry about the server or the discord. This was honestly to be expected. It’s a good sign not a bad sign. We are breaking the system lol and soon we will be paid for it.\\n\\nObligatory 🚀\", metadata={'id': 'l6i4t3'}), Document(page_content=\"Is there a better sub where comments aren’t hidden 99.9% of the time?/n/nSo often someone will ask an amazing question, something I’m really interested in getting a good answer to, or even someone’s opinion, but I always just see that message explaining that comments need to be approved. \\n\\n99.9% is an exaggeration, but not many people are going to come back to look at a post to see if any comments have been approved./n/nI someone were to make a good alternative then I'd be very happy about it. It can take ages moderating this sub. I'm sure lots of the other mods think the same.\\n\\nThe fundamental problem is though that loads of people who don't know about economic write replies. All sorts of bullshit gets written. The problem then is you'd have to know about economics to distinguish the bullshit from the truth.\\n\\nIf someone can think of a good way of solving this I'd be very happy.\", metadata={'id': 'm3g13g'})]\u001b[0m\u001b[32;1m\u001b[1;3mHere are a few opinions I found about Robinhood:\n",
      "\n",
      "1. One user expressed frustration with Robinhood, stating that they believe the platform manipulated the market by only allowing people to sell. They called for a class action against Robinhood and encouraged others to leave the platform.\n",
      "\n",
      "2. Another user mentioned that the subreddit r/wallstreetbets, which is known for its involvement in the GameStop stock frenzy, had temporarily become a private megathread. However, they reassured readers to stay calm and hold onto their GameStop shares, emphasizing the importance of unity among investors.\n",
      "\n",
      "3. A user expressed dissatisfaction with the moderation on a subreddit, stating that comments are often hidden and take a long time to be approved. They mentioned the need for a better alternative where comments can be more freely shared and discussed.\n",
      "\n",
      "Please note that these opinions represent the views of individual users and may not reflect the overall sentiment towards Robinhood.\u001b[0m\n",
      "\n",
      "\u001b[1m> Finished chain.\u001b[0m\n"
     ]
    },
    {
     "data": {
      "text/plain": [
       "{'input': \"I'd like to know what people are saying about Robinhood\",\n",
       " 'chat_history': [HumanMessage(content=\"Hi my name is Coy and I'd like some advice.\", additional_kwargs={}, example=False),\n",
       "  AIMessage(content=\"Hi Coy! I'm here to help. What kind of advice are you looking for?\", additional_kwargs={}, example=False),\n",
       "  HumanMessage(content=\"I'd like to know what people are saying about Robinhood\", additional_kwargs={}, example=False),\n",
       "  AIMessage(content='', additional_kwargs={'function_call': {'name': 'search_finance_opinions', 'arguments': '{\\n  \"arg1\": \"Robinhood\"\\n}'}}, example=False),\n",
       "  FunctionMessage(content='[Document(page_content=\\'CLASS ACTION AGAINST ROBINHOOD. Allowing people to only sell is the definition of market manipulation. A class action must be started, Robinhood has made plenty of money off selling info about our trades to the hedge funds to be able to pay out a little for causing people to loose money now/n/nLEAVE ROBINHOOD. They dont deserve to make money off us after the millions they caused in losses. It might take a couple of days, but send Robinhood to the ground and GME to the moon./n/nChapman Albin is an investors rights firm that my buddy works at. Just got off the phone w him. He is going to post a press release regarding the case they are filing. \\\\nLet me know if you need help finding a lawyer. \\\\nDisclaimer: I’m not getting anything out of this\\', metadata={\\'id\\': \\'l6x130\\'}), Document(page_content=\"Wallstreet Bets Set to Private Megathread/n/nThe moderators there have made that sub private before. That’s why this sub was created. It’ll probably open back up soon. Calm down.\\\\n\\\\nEdit: It\\'s open again. Told you guys./n/nYou there. Yeah you. The person reading this comment. Calm the fuck down. Seriously. You already know what you have to do. Hold that dang line. Wall Street is pulling out all the stops to make us wanna bail and sell our shares. Don’t give into them. Hold $GME. Don’t let them off the hook. We are in this together and it only works if we are TOGETHER. Don’t worry about the server or the discord. This was honestly to be expected. It’s a good sign not a bad sign. We are breaking the system lol and soon we will be paid for it.\\\\n\\\\nObligatory 🚀\", metadata={\\'id\\': \\'l6i4t3\\'}), Document(page_content=\"Is there a better sub where comments aren’t hidden 99.9% of the time?/n/nSo often someone will ask an amazing question, something I’m really interested in getting a good answer to, or even someone’s opinion, but I always just see that message explaining that comments need to be approved. \\\\n\\\\n99.9% is an exaggeration, but not many people are going to come back to look at a post to see if any comments have been approved./n/nI someone were to make a good alternative then I\\'d be very happy about it. It can take ages moderating this sub. I\\'m sure lots of the other mods think the same.\\\\n\\\\nThe fundamental problem is though that loads of people who don\\'t know about economic write replies. All sorts of bullshit gets written. The problem then is you\\'d have to know about economics to distinguish the bullshit from the truth.\\\\n\\\\nIf someone can think of a good way of solving this I\\'d be very happy.\", metadata={\\'id\\': \\'m3g13g\\'})]', additional_kwargs={}, name='search_finance_opinions'),\n",
       "  AIMessage(content='Here are a few opinions I found about Robinhood:\\n\\n1. One user expressed frustration with Robinhood, stating that they believe the platform manipulated the market by only allowing people to sell. They called for a class action against Robinhood and encouraged others to leave the platform.\\n\\n2. Another user mentioned that the subreddit r/wallstreetbets, which is known for its involvement in the GameStop stock frenzy, had temporarily become a private megathread. However, they reassured readers to stay calm and hold onto their GameStop shares, emphasizing the importance of unity among investors.\\n\\n3. A user expressed dissatisfaction with the moderation on a subreddit, stating that comments are often hidden and take a long time to be approved. They mentioned the need for a better alternative where comments can be more freely shared and discussed.\\n\\nPlease note that these opinions represent the views of individual users and may not reflect the overall sentiment towards Robinhood.', additional_kwargs={}, example=False)],\n",
       " 'output': 'Here are a few opinions I found about Robinhood:\\n\\n1. One user expressed frustration with Robinhood, stating that they believe the platform manipulated the market by only allowing people to sell. They called for a class action against Robinhood and encouraged others to leave the platform.\\n\\n2. Another user mentioned that the subreddit r/wallstreetbets, which is known for its involvement in the GameStop stock frenzy, had temporarily become a private megathread. However, they reassured readers to stay calm and hold onto their GameStop shares, emphasizing the importance of unity among investors.\\n\\n3. A user expressed dissatisfaction with the moderation on a subreddit, stating that comments are often hidden and take a long time to be approved. They mentioned the need for a better alternative where comments can be more freely shared and discussed.\\n\\nPlease note that these opinions represent the views of individual users and may not reflect the overall sentiment towards Robinhood.',\n",
       " 'intermediate_steps': [(_FunctionsAgentAction(tool='search_finance_opinions', tool_input={'arg1': 'Robinhood'}, log=\"\\nInvoking: `search_finance_opinions` with `{'arg1': 'Robinhood'}`\\n\\n\\n\", message_log=[AIMessage(content='', additional_kwargs={'function_call': {'name': 'search_finance_opinions', 'arguments': '{\\n  \"arg1\": \"Robinhood\"\\n}'}}, example=False)]),\n",
       "   [Document(page_content='CLASS ACTION AGAINST ROBINHOOD. Allowing people to only sell is the definition of market manipulation. A class action must be started, Robinhood has made plenty of money off selling info about our trades to the hedge funds to be able to pay out a little for causing people to loose money now/n/nLEAVE ROBINHOOD. They dont deserve to make money off us after the millions they caused in losses. It might take a couple of days, but send Robinhood to the ground and GME to the moon./n/nChapman Albin is an investors rights firm that my buddy works at. Just got off the phone w him. He is going to post a press release regarding the case they are filing. \\nLet me know if you need help finding a lawyer. \\nDisclaimer: I’m not getting anything out of this', metadata={'id': 'l6x130'}),\n",
       "    Document(page_content=\"Wallstreet Bets Set to Private Megathread/n/nThe moderators there have made that sub private before. That’s why this sub was created. It’ll probably open back up soon. Calm down.\\n\\nEdit: It's open again. Told you guys./n/nYou there. Yeah you. The person reading this comment. Calm the fuck down. Seriously. You already know what you have to do. Hold that dang line. Wall Street is pulling out all the stops to make us wanna bail and sell our shares. Don’t give into them. Hold $GME. Don’t let them off the hook. We are in this together and it only works if we are TOGETHER. Don’t worry about the server or the discord. This was honestly to be expected. It’s a good sign not a bad sign. We are breaking the system lol and soon we will be paid for it.\\n\\nObligatory 🚀\", metadata={'id': 'l6i4t3'}),\n",
       "    Document(page_content=\"Is there a better sub where comments aren’t hidden 99.9% of the time?/n/nSo often someone will ask an amazing question, something I’m really interested in getting a good answer to, or even someone’s opinion, but I always just see that message explaining that comments need to be approved. \\n\\n99.9% is an exaggeration, but not many people are going to come back to look at a post to see if any comments have been approved./n/nI someone were to make a good alternative then I'd be very happy about it. It can take ages moderating this sub. I'm sure lots of the other mods think the same.\\n\\nThe fundamental problem is though that loads of people who don't know about economic write replies. All sorts of bullshit gets written. The problem then is you'd have to know about economics to distinguish the bullshit from the truth.\\n\\nIf someone can think of a good way of solving this I'd be very happy.\", metadata={'id': 'm3g13g'})])]}"
      ]
     },
     "execution_count": 6,
     "metadata": {},
     "output_type": "execute_result"
    }
   ],
   "source": [
    "result = agent_executor({\"input\":\"I'd like to know what people are saying about Robinhood\"})\n",
    "result"
   ]
  },
  {
   "cell_type": "code",
   "execution_count": 7,
   "metadata": {},
   "outputs": [
    {
     "name": "stdout",
     "output_type": "stream",
     "text": [
      "\n",
      "\n",
      "\u001b[1m> Entering new AgentExecutor chain...\u001b[0m\n",
      "\u001b[32;1m\u001b[1;3mThe safety of using Robinhood or any other financial platform depends on various factors, including your personal risk tolerance and the specific features and security measures offered by the platform. It's important to conduct your own research and consider the following:\n",
      "\n",
      "1. Security Measures: Look into the security measures implemented by Robinhood, such as two-factor authentication, encryption, and account protection features. Ensure that the platform has robust security protocols in place to protect your personal and financial information.\n",
      "\n",
      "2. Regulatory Compliance: Check if Robinhood is regulated by relevant financial authorities in your country. Regulatory oversight can provide an additional layer of protection for users.\n",
      "\n",
      "3. User Reviews and Reputation: Read reviews and feedback from other users to get an idea of their experiences with Robinhood. Consider both positive and negative reviews to make an informed decision.\n",
      "\n",
      "4. Financial Stability: Assess the financial stability and reputation of Robinhood as a company. Look into their financial statements, funding sources, and any news or controversies surrounding the platform.\n",
      "\n",
      "5. Risk Management: Understand the risks associated with investing and trading in general. Educate yourself about the potential risks involved in using Robinhood or any other trading platform, such as market volatility, liquidity issues, and the possibility of financial losses.\n",
      "\n",
      "Ultimately, it's important to carefully evaluate your own needs, preferences, and risk tolerance before deciding whether to use Robinhood or any other financial platform. Consider consulting with a financial advisor for personalized advice based on your specific circumstances.\u001b[0m\n",
      "\n",
      "\u001b[1m> Finished chain.\u001b[0m\n"
     ]
    },
    {
     "data": {
      "text/plain": [
       "{'input': 'So is it still safe to use?',\n",
       " 'chat_history': [HumanMessage(content=\"Hi my name is Coy and I'd like some advice.\", additional_kwargs={}, example=False),\n",
       "  AIMessage(content=\"Hi Coy! I'm here to help. What kind of advice are you looking for?\", additional_kwargs={}, example=False),\n",
       "  HumanMessage(content=\"I'd like to know what people are saying about Robinhood\", additional_kwargs={}, example=False),\n",
       "  AIMessage(content='', additional_kwargs={'function_call': {'name': 'search_finance_opinions', 'arguments': '{\\n  \"arg1\": \"Robinhood\"\\n}'}}, example=False),\n",
       "  FunctionMessage(content='[Document(page_content=\\'CLASS ACTION AGAINST ROBINHOOD. Allowing people to only sell is the definition of market manipulation. A class action must be started, Robinhood has made plenty of money off selling info about our trades to the hedge funds to be able to pay out a little for causing people to loose money now/n/nLEAVE ROBINHOOD. They dont deserve to make money off us after the millions they caused in losses. It might take a couple of days, but send Robinhood to the ground and GME to the moon./n/nChapman Albin is an investors rights firm that my buddy works at. Just got off the phone w him. He is going to post a press release regarding the case they are filing. \\\\nLet me know if you need help finding a lawyer. \\\\nDisclaimer: I’m not getting anything out of this\\', metadata={\\'id\\': \\'l6x130\\'}), Document(page_content=\"Wallstreet Bets Set to Private Megathread/n/nThe moderators there have made that sub private before. That’s why this sub was created. It’ll probably open back up soon. Calm down.\\\\n\\\\nEdit: It\\'s open again. Told you guys./n/nYou there. Yeah you. The person reading this comment. Calm the fuck down. Seriously. You already know what you have to do. Hold that dang line. Wall Street is pulling out all the stops to make us wanna bail and sell our shares. Don’t give into them. Hold $GME. Don’t let them off the hook. We are in this together and it only works if we are TOGETHER. Don’t worry about the server or the discord. This was honestly to be expected. It’s a good sign not a bad sign. We are breaking the system lol and soon we will be paid for it.\\\\n\\\\nObligatory 🚀\", metadata={\\'id\\': \\'l6i4t3\\'}), Document(page_content=\"Is there a better sub where comments aren’t hidden 99.9% of the time?/n/nSo often someone will ask an amazing question, something I’m really interested in getting a good answer to, or even someone’s opinion, but I always just see that message explaining that comments need to be approved. \\\\n\\\\n99.9% is an exaggeration, but not many people are going to come back to look at a post to see if any comments have been approved./n/nI someone were to make a good alternative then I\\'d be very happy about it. It can take ages moderating this sub. I\\'m sure lots of the other mods think the same.\\\\n\\\\nThe fundamental problem is though that loads of people who don\\'t know about economic write replies. All sorts of bullshit gets written. The problem then is you\\'d have to know about economics to distinguish the bullshit from the truth.\\\\n\\\\nIf someone can think of a good way of solving this I\\'d be very happy.\", metadata={\\'id\\': \\'m3g13g\\'})]', additional_kwargs={}, name='search_finance_opinions'),\n",
       "  AIMessage(content='Here are a few opinions I found about Robinhood:\\n\\n1. One user expressed frustration with Robinhood, stating that they believe the platform manipulated the market by only allowing people to sell. They called for a class action against Robinhood and encouraged others to leave the platform.\\n\\n2. Another user mentioned that the subreddit r/wallstreetbets, which is known for its involvement in the GameStop stock frenzy, had temporarily become a private megathread. However, they reassured readers to stay calm and hold onto their GameStop shares, emphasizing the importance of unity among investors.\\n\\n3. A user expressed dissatisfaction with the moderation on a subreddit, stating that comments are often hidden and take a long time to be approved. They mentioned the need for a better alternative where comments can be more freely shared and discussed.\\n\\nPlease note that these opinions represent the views of individual users and may not reflect the overall sentiment towards Robinhood.', additional_kwargs={}, example=False),\n",
       "  HumanMessage(content='So is it still safe to use?', additional_kwargs={}, example=False),\n",
       "  AIMessage(content=\"The safety of using Robinhood or any other financial platform depends on various factors, including your personal risk tolerance and the specific features and security measures offered by the platform. It's important to conduct your own research and consider the following:\\n\\n1. Security Measures: Look into the security measures implemented by Robinhood, such as two-factor authentication, encryption, and account protection features. Ensure that the platform has robust security protocols in place to protect your personal and financial information.\\n\\n2. Regulatory Compliance: Check if Robinhood is regulated by relevant financial authorities in your country. Regulatory oversight can provide an additional layer of protection for users.\\n\\n3. User Reviews and Reputation: Read reviews and feedback from other users to get an idea of their experiences with Robinhood. Consider both positive and negative reviews to make an informed decision.\\n\\n4. Financial Stability: Assess the financial stability and reputation of Robinhood as a company. Look into their financial statements, funding sources, and any news or controversies surrounding the platform.\\n\\n5. Risk Management: Understand the risks associated with investing and trading in general. Educate yourself about the potential risks involved in using Robinhood or any other trading platform, such as market volatility, liquidity issues, and the possibility of financial losses.\\n\\nUltimately, it's important to carefully evaluate your own needs, preferences, and risk tolerance before deciding whether to use Robinhood or any other financial platform. Consider consulting with a financial advisor for personalized advice based on your specific circumstances.\", additional_kwargs={}, example=False)],\n",
       " 'output': \"The safety of using Robinhood or any other financial platform depends on various factors, including your personal risk tolerance and the specific features and security measures offered by the platform. It's important to conduct your own research and consider the following:\\n\\n1. Security Measures: Look into the security measures implemented by Robinhood, such as two-factor authentication, encryption, and account protection features. Ensure that the platform has robust security protocols in place to protect your personal and financial information.\\n\\n2. Regulatory Compliance: Check if Robinhood is regulated by relevant financial authorities in your country. Regulatory oversight can provide an additional layer of protection for users.\\n\\n3. User Reviews and Reputation: Read reviews and feedback from other users to get an idea of their experiences with Robinhood. Consider both positive and negative reviews to make an informed decision.\\n\\n4. Financial Stability: Assess the financial stability and reputation of Robinhood as a company. Look into their financial statements, funding sources, and any news or controversies surrounding the platform.\\n\\n5. Risk Management: Understand the risks associated with investing and trading in general. Educate yourself about the potential risks involved in using Robinhood or any other trading platform, such as market volatility, liquidity issues, and the possibility of financial losses.\\n\\nUltimately, it's important to carefully evaluate your own needs, preferences, and risk tolerance before deciding whether to use Robinhood or any other financial platform. Consider consulting with a financial advisor for personalized advice based on your specific circumstances.\",\n",
       " 'intermediate_steps': []}"
      ]
     },
     "execution_count": 7,
     "metadata": {},
     "output_type": "execute_result"
    }
   ],
   "source": [
    "result = agent_executor({\"input\":\"So is it still safe to use?\"})\n",
    "result"
   ]
  },
  {
   "cell_type": "markdown",
   "metadata": {},
   "source": [
    "# Agent from Components\n",
    "\n",
    "Now I'll build the agent by each component to exert a little more control."
   ]
  },
  {
   "cell_type": "markdown",
   "metadata": {},
   "source": [
    "## Memory\n",
    "Any of the `langchain` memory objects can be used to store the chat history.  Here I'll use `AgentTokenBufferMemory` because I want the agent to remember the conversation in addition to the previous intermediate steps taken."
   ]
  },
  {
   "cell_type": "code",
   "execution_count": 8,
   "metadata": {},
   "outputs": [],
   "source": [
    "from langchain.agents.openai_functions_agent.agent_token_buffer_memory import AgentTokenBufferMemory\n",
    "\n",
    "# This is needed for both the memory and the prompt\n",
    "memory_key = \"history\"\n",
    "memory = AgentTokenBufferMemory(memory_key=memory_key, llm=llm)"
   ]
  },
  {
   "cell_type": "markdown",
   "metadata": {},
   "source": [
    "## Prompt Template\n",
    "Now I'll set up the prompt template for the agent.  Since I'm using OpenAI for the agent and LLM, I'll use the default OpenAI Agent prompt provided by `OpenAIFunctionsAgent.create_prompt`.  I'll supply a custom system message, along with the chat history and previous intermediate steps."
   ]
  },
  {
   "cell_type": "code",
   "execution_count": 9,
   "metadata": {},
   "outputs": [],
   "source": [
    "from langchain.agents.openai_functions_agent.base import OpenAIFunctionsAgent\n",
    "from langchain.schema.messages import SystemMessage\n",
    "from langchain.prompts import MessagesPlaceholder\n",
    "\n",
    "system_message = SystemMessage(\n",
    "        content=(\n",
    "            \"You are an expert on the opinions of Reddit Users.\"\n",
    "            \"Do your best to answer the questions. \"\n",
    "            \"Feel free to use any tools available to look up \"\n",
    "            \"relevant information, only if neccessary\"\n",
    "        )\n",
    ")\n",
    "\n",
    "prompt = OpenAIFunctionsAgent.create_prompt(\n",
    "        system_message=system_message,\n",
    "        extra_prompt_messages=[MessagesPlaceholder(variable_name=memory_key)]\n",
    "    )"
   ]
  },
  {
   "cell_type": "markdown",
   "metadata": {},
   "source": [
    "## Tools\n",
    "\n",
    "In addition to the retrieval tool defined above, I'm going to add a search tool here to showcase the capabilities of the agent.  This allows the agent to search the internet for additional context which it cannot retrieve from the vector store we supplied.  There are many options for internet search tools and I've chosen `DuckDuckGoSearchRun` because it doesn't require a key or any additional setup.\n",
    "\n",
    "The agent uses the descriptions (and titles?) of the tools to decide which tool to use and when, so it is important these are descriptive and succinct.  "
   ]
  },
  {
   "cell_type": "code",
   "execution_count": 10,
   "metadata": {},
   "outputs": [],
   "source": [
    "from langchain.tools import DuckDuckGoSearchRun\n",
    "from langchain.tools import Tool\n",
    "\n",
    "search = DuckDuckGoSearchRun()\n",
    "duckduckgo_tool = Tool.from_function(\n",
    "    func=search.run,\n",
    "    name=\"DuckDuckGo_Search\",\n",
    "    description=\"Useful for when you need to do a search on the internet to find information that another tool can't find. be specific with your input.\"\n",
    ")\n",
    "\n",
    "tools.append(duckduckgo_tool)"
   ]
  },
  {
   "cell_type": "markdown",
   "metadata": {},
   "source": [
    "## Build Agent\n",
    "\n",
    "Now that I've defined each component above, building the agent is as simple as combining each component and instantiating, using `create_conversational_retrieval_agent`."
   ]
  },
  {
   "cell_type": "code",
   "execution_count": 11,
   "metadata": {},
   "outputs": [],
   "source": [
    "from langchain.agents.agent_toolkits import create_conversational_retrieval_agent\n",
    "\n",
    "agent_executor = create_conversational_retrieval_agent(llm, tools, verbose=True)"
   ]
  },
  {
   "cell_type": "markdown",
   "metadata": {},
   "source": [
    "## Test Chat\n",
    "\n",
    "Now I'll have a quick test chat with the agent and see when and if it chooses to use each tool."
   ]
  },
  {
   "cell_type": "code",
   "execution_count": 12,
   "metadata": {},
   "outputs": [
    {
     "name": "stdout",
     "output_type": "stream",
     "text": [
      "\n",
      "\n",
      "\u001b[1m> Entering new AgentExecutor chain...\u001b[0m\n",
      "\u001b[32;1m\u001b[1;3mHello Coy! How can I assist you today?\u001b[0m\n",
      "\n",
      "\u001b[1m> Finished chain.\u001b[0m\n"
     ]
    },
    {
     "data": {
      "text/plain": [
       "{'input': \"Hi, I'm Coy\",\n",
       " 'chat_history': [HumanMessage(content=\"Hi, I'm Coy\", additional_kwargs={}, example=False),\n",
       "  AIMessage(content='Hello Coy! How can I assist you today?', additional_kwargs={}, example=False)],\n",
       " 'output': 'Hello Coy! How can I assist you today?',\n",
       " 'intermediate_steps': []}"
      ]
     },
     "execution_count": 12,
     "metadata": {},
     "output_type": "execute_result"
    }
   ],
   "source": [
    "result = agent_executor({\"input\": \"Hi, I'm Coy\"})\n",
    "result"
   ]
  },
  {
   "cell_type": "code",
   "execution_count": 13,
   "metadata": {},
   "outputs": [
    {
     "name": "stdout",
     "output_type": "stream",
     "text": [
      "\n",
      "\n",
      "\u001b[1m> Entering new AgentExecutor chain...\u001b[0m\n",
      "\u001b[32;1m\u001b[1;3m\n",
      "Invoking: `search_finance_opinions` with `{'query': 'Robinhood'}`\n",
      "\n",
      "\n",
      "\u001b[0m\u001b[36;1m\u001b[1;3m[Document(page_content='CLASS ACTION AGAINST ROBINHOOD. Allowing people to only sell is the definition of market manipulation. A class action must be started, Robinhood has made plenty of money off selling info about our trades to the hedge funds to be able to pay out a little for causing people to loose money now/n/nLEAVE ROBINHOOD. They dont deserve to make money off us after the millions they caused in losses. It might take a couple of days, but send Robinhood to the ground and GME to the moon./n/nChapman Albin is an investors rights firm that my buddy works at. Just got off the phone w him. He is going to post a press release regarding the case they are filing. \\nLet me know if you need help finding a lawyer. \\nDisclaimer: I’m not getting anything out of this', metadata={'id': 'l6x130'}), Document(page_content=\"Wallstreet Bets Set to Private Megathread/n/nThe moderators there have made that sub private before. That’s why this sub was created. It’ll probably open back up soon. Calm down.\\n\\nEdit: It's open again. Told you guys./n/nYou there. Yeah you. The person reading this comment. Calm the fuck down. Seriously. You already know what you have to do. Hold that dang line. Wall Street is pulling out all the stops to make us wanna bail and sell our shares. Don’t give into them. Hold $GME. Don’t let them off the hook. We are in this together and it only works if we are TOGETHER. Don’t worry about the server or the discord. This was honestly to be expected. It’s a good sign not a bad sign. We are breaking the system lol and soon we will be paid for it.\\n\\nObligatory 🚀\", metadata={'id': 'l6i4t3'}), Document(page_content=\"Is there a better sub where comments aren’t hidden 99.9% of the time?/n/nSo often someone will ask an amazing question, something I’m really interested in getting a good answer to, or even someone’s opinion, but I always just see that message explaining that comments need to be approved. \\n\\n99.9% is an exaggeration, but not many people are going to come back to look at a post to see if any comments have been approved./n/nI someone were to make a good alternative then I'd be very happy about it. It can take ages moderating this sub. I'm sure lots of the other mods think the same.\\n\\nThe fundamental problem is though that loads of people who don't know about economic write replies. All sorts of bullshit gets written. The problem then is you'd have to know about economics to distinguish the bullshit from the truth.\\n\\nIf someone can think of a good way of solving this I'd be very happy.\", metadata={'id': 'm3g13g'})]\u001b[0m\u001b[32;1m\u001b[1;3mHere are a few opinions about Robinhood:\n",
      "\n",
      "1. One user expressed frustration with Robinhood's decision to only allow selling during a particular market situation. They believe this is market manipulation and are calling for a class action against Robinhood. They also mentioned a law firm called Chapman Albin that is filing a case against Robinhood.\n",
      "\n",
      "2. Another user mentioned that the subreddit r/wallstreetbets, which is known for its involvement in the GameStop stock frenzy, went private temporarily but has since reopened. They encouraged others to stay calm, hold their shares, and not give in to pressure from Wall Street.\n",
      "\n",
      "3. A user expressed dissatisfaction with the moderation on a subreddit and suggested that comments are hidden most of the time. They mentioned the need for a better alternative where comments are not heavily moderated and approved. They also mentioned the challenge of distinguishing between valid economic opinions and misinformation.\n",
      "\n",
      "Please note that these opinions represent individual perspectives and may not reflect the overall sentiment towards Robinhood.\u001b[0m\n",
      "\n",
      "\u001b[1m> Finished chain.\u001b[0m\n"
     ]
    },
    {
     "data": {
      "text/plain": [
       "{'input': 'What are people saying about Robinhood?',\n",
       " 'chat_history': [HumanMessage(content=\"Hi, I'm Coy\", additional_kwargs={}, example=False),\n",
       "  AIMessage(content='Hello Coy! How can I assist you today?', additional_kwargs={}, example=False),\n",
       "  HumanMessage(content='What are people saying about Robinhood?', additional_kwargs={}, example=False),\n",
       "  AIMessage(content='', additional_kwargs={'function_call': {'name': 'search_finance_opinions', 'arguments': '{\\n  \"query\": \"Robinhood\"\\n}'}}, example=False),\n",
       "  FunctionMessage(content='[Document(page_content=\\'CLASS ACTION AGAINST ROBINHOOD. Allowing people to only sell is the definition of market manipulation. A class action must be started, Robinhood has made plenty of money off selling info about our trades to the hedge funds to be able to pay out a little for causing people to loose money now/n/nLEAVE ROBINHOOD. They dont deserve to make money off us after the millions they caused in losses. It might take a couple of days, but send Robinhood to the ground and GME to the moon./n/nChapman Albin is an investors rights firm that my buddy works at. Just got off the phone w him. He is going to post a press release regarding the case they are filing. \\\\nLet me know if you need help finding a lawyer. \\\\nDisclaimer: I’m not getting anything out of this\\', metadata={\\'id\\': \\'l6x130\\'}), Document(page_content=\"Wallstreet Bets Set to Private Megathread/n/nThe moderators there have made that sub private before. That’s why this sub was created. It’ll probably open back up soon. Calm down.\\\\n\\\\nEdit: It\\'s open again. Told you guys./n/nYou there. Yeah you. The person reading this comment. Calm the fuck down. Seriously. You already know what you have to do. Hold that dang line. Wall Street is pulling out all the stops to make us wanna bail and sell our shares. Don’t give into them. Hold $GME. Don’t let them off the hook. We are in this together and it only works if we are TOGETHER. Don’t worry about the server or the discord. This was honestly to be expected. It’s a good sign not a bad sign. We are breaking the system lol and soon we will be paid for it.\\\\n\\\\nObligatory 🚀\", metadata={\\'id\\': \\'l6i4t3\\'}), Document(page_content=\"Is there a better sub where comments aren’t hidden 99.9% of the time?/n/nSo often someone will ask an amazing question, something I’m really interested in getting a good answer to, or even someone’s opinion, but I always just see that message explaining that comments need to be approved. \\\\n\\\\n99.9% is an exaggeration, but not many people are going to come back to look at a post to see if any comments have been approved./n/nI someone were to make a good alternative then I\\'d be very happy about it. It can take ages moderating this sub. I\\'m sure lots of the other mods think the same.\\\\n\\\\nThe fundamental problem is though that loads of people who don\\'t know about economic write replies. All sorts of bullshit gets written. The problem then is you\\'d have to know about economics to distinguish the bullshit from the truth.\\\\n\\\\nIf someone can think of a good way of solving this I\\'d be very happy.\", metadata={\\'id\\': \\'m3g13g\\'})]', additional_kwargs={}, name='search_finance_opinions'),\n",
       "  AIMessage(content=\"Here are a few opinions about Robinhood:\\n\\n1. One user expressed frustration with Robinhood's decision to only allow selling during a particular market situation. They believe this is market manipulation and are calling for a class action against Robinhood. They also mentioned a law firm called Chapman Albin that is filing a case against Robinhood.\\n\\n2. Another user mentioned that the subreddit r/wallstreetbets, which is known for its involvement in the GameStop stock frenzy, went private temporarily but has since reopened. They encouraged others to stay calm, hold their shares, and not give in to pressure from Wall Street.\\n\\n3. A user expressed dissatisfaction with the moderation on a subreddit and suggested that comments are hidden most of the time. They mentioned the need for a better alternative where comments are not heavily moderated and approved. They also mentioned the challenge of distinguishing between valid economic opinions and misinformation.\\n\\nPlease note that these opinions represent individual perspectives and may not reflect the overall sentiment towards Robinhood.\", additional_kwargs={}, example=False)],\n",
       " 'output': \"Here are a few opinions about Robinhood:\\n\\n1. One user expressed frustration with Robinhood's decision to only allow selling during a particular market situation. They believe this is market manipulation and are calling for a class action against Robinhood. They also mentioned a law firm called Chapman Albin that is filing a case against Robinhood.\\n\\n2. Another user mentioned that the subreddit r/wallstreetbets, which is known for its involvement in the GameStop stock frenzy, went private temporarily but has since reopened. They encouraged others to stay calm, hold their shares, and not give in to pressure from Wall Street.\\n\\n3. A user expressed dissatisfaction with the moderation on a subreddit and suggested that comments are hidden most of the time. They mentioned the need for a better alternative where comments are not heavily moderated and approved. They also mentioned the challenge of distinguishing between valid economic opinions and misinformation.\\n\\nPlease note that these opinions represent individual perspectives and may not reflect the overall sentiment towards Robinhood.\",\n",
       " 'intermediate_steps': [(_FunctionsAgentAction(tool='search_finance_opinions', tool_input={'query': 'Robinhood'}, log=\"\\nInvoking: `search_finance_opinions` with `{'query': 'Robinhood'}`\\n\\n\\n\", message_log=[AIMessage(content='', additional_kwargs={'function_call': {'name': 'search_finance_opinions', 'arguments': '{\\n  \"query\": \"Robinhood\"\\n}'}}, example=False)]),\n",
       "   [Document(page_content='CLASS ACTION AGAINST ROBINHOOD. Allowing people to only sell is the definition of market manipulation. A class action must be started, Robinhood has made plenty of money off selling info about our trades to the hedge funds to be able to pay out a little for causing people to loose money now/n/nLEAVE ROBINHOOD. They dont deserve to make money off us after the millions they caused in losses. It might take a couple of days, but send Robinhood to the ground and GME to the moon./n/nChapman Albin is an investors rights firm that my buddy works at. Just got off the phone w him. He is going to post a press release regarding the case they are filing. \\nLet me know if you need help finding a lawyer. \\nDisclaimer: I’m not getting anything out of this', metadata={'id': 'l6x130'}),\n",
       "    Document(page_content=\"Wallstreet Bets Set to Private Megathread/n/nThe moderators there have made that sub private before. That’s why this sub was created. It’ll probably open back up soon. Calm down.\\n\\nEdit: It's open again. Told you guys./n/nYou there. Yeah you. The person reading this comment. Calm the fuck down. Seriously. You already know what you have to do. Hold that dang line. Wall Street is pulling out all the stops to make us wanna bail and sell our shares. Don’t give into them. Hold $GME. Don’t let them off the hook. We are in this together and it only works if we are TOGETHER. Don’t worry about the server or the discord. This was honestly to be expected. It’s a good sign not a bad sign. We are breaking the system lol and soon we will be paid for it.\\n\\nObligatory 🚀\", metadata={'id': 'l6i4t3'}),\n",
       "    Document(page_content=\"Is there a better sub where comments aren’t hidden 99.9% of the time?/n/nSo often someone will ask an amazing question, something I’m really interested in getting a good answer to, or even someone’s opinion, but I always just see that message explaining that comments need to be approved. \\n\\n99.9% is an exaggeration, but not many people are going to come back to look at a post to see if any comments have been approved./n/nI someone were to make a good alternative then I'd be very happy about it. It can take ages moderating this sub. I'm sure lots of the other mods think the same.\\n\\nThe fundamental problem is though that loads of people who don't know about economic write replies. All sorts of bullshit gets written. The problem then is you'd have to know about economics to distinguish the bullshit from the truth.\\n\\nIf someone can think of a good way of solving this I'd be very happy.\", metadata={'id': 'm3g13g'})])]}"
      ]
     },
     "execution_count": 13,
     "metadata": {},
     "output_type": "execute_result"
    }
   ],
   "source": [
    "result = agent_executor({\"input\": \"What are people saying about Robinhood?\"})\n",
    "result"
   ]
  },
  {
   "cell_type": "code",
   "execution_count": 14,
   "metadata": {},
   "outputs": [
    {
     "name": "stdout",
     "output_type": "stream",
     "text": [
      "\n",
      "\n",
      "\u001b[1m> Entering new AgentExecutor chain...\u001b[0m\n",
      "\u001b[32;1m\u001b[1;3m\n",
      "Invoking: `DuckDuckGo_Search` with `{'query': 'Is it safe to use Robinhood?'}`\n",
      "\n",
      "\n",
      "\u001b[0m\u001b[33;1m\u001b[1;3mIs Robinhood safe? Commission-free trades and a nifty mobile app made Robinhood a splash with investors. However, some wonder if it is safe to use, legitimate, or FINRA insured. Is... Advertiser disclosure Robinhood Review 2023: Pros, Cons and How It Compares Robinhood will appeal to investors looking to cut costs. But customer support is lacking, and the broker has run... In addition to my personal experience showing it is safe, you can rest assured that your first $500,000 of cash and stocks is insured by the SIPC. According to their website \"Robinhood Financial LLC and Robinhood Securities, LLC are members of SIPC so securities in Robinhood accounts are protected up to $500,000. Robinhood Broker Review 4.4 U.S. News Overall Rating By Barbara Friedberg June 27, 2023, at 9:17 a.m. Our Verdict Robinhood has become one of the most popular brokerages in the U.S., thanks largely to its easy-to-use trading app that can make investing appear very simple. For some investors,...\u001b[0m\u001b[32;1m\u001b[1;3mAccording to my search, Robinhood is generally considered safe to use. It offers commission-free trades and has a user-friendly mobile app that has gained popularity among investors. Additionally, Robinhood Financial LLC and Robinhood Securities, LLC are members of the Securities Investor Protection Corporation (SIPC), which means that securities in Robinhood accounts are protected up to $500,000.\n",
      "\n",
      "However, it's important to note that no investment platform is completely risk-free, and it's always a good idea to do your own research and consider your own risk tolerance before using any investment service.\u001b[0m\n",
      "\n",
      "\u001b[1m> Finished chain.\u001b[0m\n"
     ]
    },
    {
     "data": {
      "text/plain": [
       "{'input': 'So is it still safe to use?',\n",
       " 'chat_history': [HumanMessage(content=\"Hi, I'm Coy\", additional_kwargs={}, example=False),\n",
       "  AIMessage(content='Hello Coy! How can I assist you today?', additional_kwargs={}, example=False),\n",
       "  HumanMessage(content='What are people saying about Robinhood?', additional_kwargs={}, example=False),\n",
       "  AIMessage(content='', additional_kwargs={'function_call': {'name': 'search_finance_opinions', 'arguments': '{\\n  \"query\": \"Robinhood\"\\n}'}}, example=False),\n",
       "  FunctionMessage(content='[Document(page_content=\\'CLASS ACTION AGAINST ROBINHOOD. Allowing people to only sell is the definition of market manipulation. A class action must be started, Robinhood has made plenty of money off selling info about our trades to the hedge funds to be able to pay out a little for causing people to loose money now/n/nLEAVE ROBINHOOD. They dont deserve to make money off us after the millions they caused in losses. It might take a couple of days, but send Robinhood to the ground and GME to the moon./n/nChapman Albin is an investors rights firm that my buddy works at. Just got off the phone w him. He is going to post a press release regarding the case they are filing. \\\\nLet me know if you need help finding a lawyer. \\\\nDisclaimer: I’m not getting anything out of this\\', metadata={\\'id\\': \\'l6x130\\'}), Document(page_content=\"Wallstreet Bets Set to Private Megathread/n/nThe moderators there have made that sub private before. That’s why this sub was created. It’ll probably open back up soon. Calm down.\\\\n\\\\nEdit: It\\'s open again. Told you guys./n/nYou there. Yeah you. The person reading this comment. Calm the fuck down. Seriously. You already know what you have to do. Hold that dang line. Wall Street is pulling out all the stops to make us wanna bail and sell our shares. Don’t give into them. Hold $GME. Don’t let them off the hook. We are in this together and it only works if we are TOGETHER. Don’t worry about the server or the discord. This was honestly to be expected. It’s a good sign not a bad sign. We are breaking the system lol and soon we will be paid for it.\\\\n\\\\nObligatory 🚀\", metadata={\\'id\\': \\'l6i4t3\\'}), Document(page_content=\"Is there a better sub where comments aren’t hidden 99.9% of the time?/n/nSo often someone will ask an amazing question, something I’m really interested in getting a good answer to, or even someone’s opinion, but I always just see that message explaining that comments need to be approved. \\\\n\\\\n99.9% is an exaggeration, but not many people are going to come back to look at a post to see if any comments have been approved./n/nI someone were to make a good alternative then I\\'d be very happy about it. It can take ages moderating this sub. I\\'m sure lots of the other mods think the same.\\\\n\\\\nThe fundamental problem is though that loads of people who don\\'t know about economic write replies. All sorts of bullshit gets written. The problem then is you\\'d have to know about economics to distinguish the bullshit from the truth.\\\\n\\\\nIf someone can think of a good way of solving this I\\'d be very happy.\", metadata={\\'id\\': \\'m3g13g\\'})]', additional_kwargs={}, name='search_finance_opinions'),\n",
       "  AIMessage(content=\"Here are a few opinions about Robinhood:\\n\\n1. One user expressed frustration with Robinhood's decision to only allow selling during a particular market situation. They believe this is market manipulation and are calling for a class action against Robinhood. They also mentioned a law firm called Chapman Albin that is filing a case against Robinhood.\\n\\n2. Another user mentioned that the subreddit r/wallstreetbets, which is known for its involvement in the GameStop stock frenzy, went private temporarily but has since reopened. They encouraged others to stay calm, hold their shares, and not give in to pressure from Wall Street.\\n\\n3. A user expressed dissatisfaction with the moderation on a subreddit and suggested that comments are hidden most of the time. They mentioned the need for a better alternative where comments are not heavily moderated and approved. They also mentioned the challenge of distinguishing between valid economic opinions and misinformation.\\n\\nPlease note that these opinions represent individual perspectives and may not reflect the overall sentiment towards Robinhood.\", additional_kwargs={}, example=False),\n",
       "  HumanMessage(content='So is it still safe to use?', additional_kwargs={}, example=False),\n",
       "  AIMessage(content='', additional_kwargs={'function_call': {'name': 'DuckDuckGo_Search', 'arguments': '{\\n  \"query\": \"Is it safe to use Robinhood?\"\\n}'}}, example=False),\n",
       "  FunctionMessage(content='Is Robinhood safe? Commission-free trades and a nifty mobile app made Robinhood a splash with investors. However, some wonder if it is safe to use, legitimate, or FINRA insured. Is... Advertiser disclosure Robinhood Review 2023: Pros, Cons and How It Compares Robinhood will appeal to investors looking to cut costs. But customer support is lacking, and the broker has run... In addition to my personal experience showing it is safe, you can rest assured that your first $500,000 of cash and stocks is insured by the SIPC. According to their website \"Robinhood Financial LLC and Robinhood Securities, LLC are members of SIPC so securities in Robinhood accounts are protected up to $500,000. Robinhood Broker Review 4.4 U.S. News Overall Rating By Barbara Friedberg June 27, 2023, at 9:17 a.m. Our Verdict Robinhood has become one of the most popular brokerages in the U.S., thanks largely to its easy-to-use trading app that can make investing appear very simple. For some investors,...', additional_kwargs={}, name='DuckDuckGo_Search'),\n",
       "  AIMessage(content=\"According to my search, Robinhood is generally considered safe to use. It offers commission-free trades and has a user-friendly mobile app that has gained popularity among investors. Additionally, Robinhood Financial LLC and Robinhood Securities, LLC are members of the Securities Investor Protection Corporation (SIPC), which means that securities in Robinhood accounts are protected up to $500,000.\\n\\nHowever, it's important to note that no investment platform is completely risk-free, and it's always a good idea to do your own research and consider your own risk tolerance before using any investment service.\", additional_kwargs={}, example=False)],\n",
       " 'output': \"According to my search, Robinhood is generally considered safe to use. It offers commission-free trades and has a user-friendly mobile app that has gained popularity among investors. Additionally, Robinhood Financial LLC and Robinhood Securities, LLC are members of the Securities Investor Protection Corporation (SIPC), which means that securities in Robinhood accounts are protected up to $500,000.\\n\\nHowever, it's important to note that no investment platform is completely risk-free, and it's always a good idea to do your own research and consider your own risk tolerance before using any investment service.\",\n",
       " 'intermediate_steps': [(_FunctionsAgentAction(tool='DuckDuckGo_Search', tool_input={'query': 'Is it safe to use Robinhood?'}, log=\"\\nInvoking: `DuckDuckGo_Search` with `{'query': 'Is it safe to use Robinhood?'}`\\n\\n\\n\", message_log=[AIMessage(content='', additional_kwargs={'function_call': {'name': 'DuckDuckGo_Search', 'arguments': '{\\n  \"query\": \"Is it safe to use Robinhood?\"\\n}'}}, example=False)]),\n",
       "   'Is Robinhood safe? Commission-free trades and a nifty mobile app made Robinhood a splash with investors. However, some wonder if it is safe to use, legitimate, or FINRA insured. Is... Advertiser disclosure Robinhood Review 2023: Pros, Cons and How It Compares Robinhood will appeal to investors looking to cut costs. But customer support is lacking, and the broker has run... In addition to my personal experience showing it is safe, you can rest assured that your first $500,000 of cash and stocks is insured by the SIPC. According to their website \"Robinhood Financial LLC and Robinhood Securities, LLC are members of SIPC so securities in Robinhood accounts are protected up to $500,000. Robinhood Broker Review 4.4 U.S. News Overall Rating By Barbara Friedberg June 27, 2023, at 9:17 a.m. Our Verdict Robinhood has become one of the most popular brokerages in the U.S., thanks largely to its easy-to-use trading app that can make investing appear very simple. For some investors,...')]}"
      ]
     },
     "execution_count": 14,
     "metadata": {},
     "output_type": "execute_result"
    }
   ],
   "source": [
    "result = agent_executor({\"input\":\"So is it still safe to use?\"})\n",
    "result"
   ]
  }
 ],
 "metadata": {
  "kernelspec": {
   "display_name": ".venv",
   "language": "python",
   "name": "python3"
  },
  "language_info": {
   "codemirror_mode": {
    "name": "ipython",
    "version": 3
   },
   "file_extension": ".py",
   "mimetype": "text/x-python",
   "name": "python",
   "nbconvert_exporter": "python",
   "pygments_lexer": "ipython3",
   "version": "3.11.1"
  },
  "orig_nbformat": 4
 },
 "nbformat": 4,
 "nbformat_minor": 2
}
