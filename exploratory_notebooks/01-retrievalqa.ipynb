{
 "cells": [
  {
   "cell_type": "markdown",
   "metadata": {},
   "source": [
    "# Purpose\n",
    "The purpose of this notebook is to trial the usage of `RetrievalQA` for question answering in our current use case.  I'll be working mainly from these two examples: [example 1](https://python.langchain.com/docs/use_cases/question_answering/) & [example 2](https://python.langchain.com/docs/use_cases/question_answering/how_to/vector_db_qa).\n",
    "\n",
    "# Vector Store\n",
    "\n",
    "The dataset for this example is stored in `data/vector-db/` and it stores finanical posts and top comments from many of reddit's top financial subreddits, as described in `00-data-import.ipynb`.  The vectorstore was embedded using `all-mpnet-base-v2` from HF and so that'll be loaded and provided as well."
   ]
  },
  {
   "cell_type": "code",
   "execution_count": 1,
   "metadata": {},
   "outputs": [],
   "source": [
    "from langchain.embeddings import HuggingFaceEmbeddings\n",
    "from langchain.vectorstores import FAISS\n",
    "\n",
    "model_name = \"sentence-transformers/all-mpnet-base-v2\"\n",
    "model_kwargs = {'device': 'cpu'}\n",
    "encode_kwargs = {'normalize_embeddings': False}\n",
    "embeddings = HuggingFaceEmbeddings(\n",
    "    model_name=model_name,\n",
    "    model_kwargs=model_kwargs,\n",
    "    encode_kwargs=encode_kwargs\n",
    ")\n",
    "\n",
    "db = FAISS.load_local(\"data/vector-db/\", embeddings)"
   ]
  },
  {
   "cell_type": "markdown",
   "metadata": {},
   "source": [
    "# Retrieval\n",
    "\n",
    "## Similarity Search\n",
    "\n",
    "The main functionality of the `FAISS` vectorstore is it's built in, fast, approximate similarity search.  This is crucial to the RAG workflow.  I'll demonstrate with a couple similar results below."
   ]
  },
  {
   "cell_type": "code",
   "execution_count": 7,
   "metadata": {},
   "outputs": [],
   "source": [
    "query = \"What are people saying about Robinhood?\"\n",
    "\n",
    "similar_docs = db.similarity_search(query, k=2)"
   ]
  },
  {
   "cell_type": "code",
   "execution_count": 10,
   "metadata": {},
   "outputs": [
    {
     "data": {
      "text/html": [
       "<p><blockquote style=\"font-size:24\">What are people saying about Robinhood?</blockquote></p><p><blockquote style=\"font-size:18px\">No result yet!</blockquote></p><p><hr/></p><p><blockquote>CLASS ACTION AGAINST ROBINHOOD. Allowing people to only sell is the definition of market manipulation. A class action must be started, Robinhood has made plenty of money off selling info about our trades to the hedge funds to be able to pay out a little for causing people to loose money now/n/nLEAVE ROBINHOOD. They dont deserve to make money off us after the millions they caused in losses. It might take a couple of days, but send Robinhood to the ground and GME to the moon./n/nChapman Albin is an investors rights firm that my buddy works at. Just got off the phone w him. He is going to post a press release regarding the case they are filing. \n",
       "Let me know if you need help finding a lawyer. \n",
       "Disclaimer: I’m not getting anything out of this<br/>(Source: l6x130)</blockquote></p><p><blockquote>Wallstreet Bets Set to Private Megathread/n/nThe moderators there have made that sub private before. That’s why this sub was created. It’ll probably open back up soon. Calm down.\n",
       "\n",
       "Edit: It's open again. Told you guys./n/nYou there. Yeah you. The person reading this comment. Calm the fuck down. Seriously. You already know what you have to do. Hold that dang line. Wall Street is pulling out all the stops to make us wanna bail and sell our shares. Don’t give into them. Hold $GME. Don’t let them off the hook. We are in this together and it only works if we are TOGETHER. Don’t worry about the server or the discord. This was honestly to be expected. It’s a good sign not a bad sign. We are breaking the system lol and soon we will be paid for it.\n",
       "\n",
       "Obligatory 🚀<br/>(Source: l6i4t3)</blockquote></p>"
      ],
      "text/plain": [
       "<IPython.core.display.HTML object>"
      ]
     },
     "metadata": {},
     "output_type": "display_data"
    }
   ],
   "source": [
    "from IPython.display import HTML\n",
    "\n",
    "def display_result(question, result, similar_docs):\n",
    "    result_html = f\"<p><blockquote style=\\\"font-size:24\\\">{question}</blockquote></p>\"\n",
    "    result_html += f\"<p><blockquote style=\\\"font-size:18px\\\">{result}</blockquote></p>\"\n",
    "    result_html += \"<p><hr/></p>\"\n",
    "    for d in similar_docs:\n",
    "        source_id = d.metadata[\"id\"]\n",
    "        result_html += f\"<p><blockquote>{d.page_content}<br/>(Source: {source_id})</blockquote></p>\"\n",
    "    display(HTML(result_html))\n",
    "\n",
    "display_result(query, \"No result yet!\", similar_docs)"
   ]
  },
  {
   "cell_type": "markdown",
   "metadata": {},
   "source": [
    "## Maximum marginal relevance search (MMR)\n",
    "A more robust, but slower alternative to the similarity search is MMR.  It optimizes for similarity and diversity among the selected documents."
   ]
  },
  {
   "cell_type": "code",
   "execution_count": 11,
   "metadata": {},
   "outputs": [
    {
     "data": {
      "text/html": [
       "<p><blockquote style=\"font-size:24\">What are people saying about Robinhood?</blockquote></p><p><blockquote style=\"font-size:18px\">No result yet!</blockquote></p><p><hr/></p><p><blockquote>CLASS ACTION AGAINST ROBINHOOD. Allowing people to only sell is the definition of market manipulation. A class action must be started, Robinhood has made plenty of money off selling info about our trades to the hedge funds to be able to pay out a little for causing people to loose money now/n/nLEAVE ROBINHOOD. They dont deserve to make money off us after the millions they caused in losses. It might take a couple of days, but send Robinhood to the ground and GME to the moon./n/nChapman Albin is an investors rights firm that my buddy works at. Just got off the phone w him. He is going to post a press release regarding the case they are filing. \n",
       "Let me know if you need help finding a lawyer. \n",
       "Disclaimer: I’m not getting anything out of this<br/>(Source: l6x130)</blockquote></p><p><blockquote>Is there a better sub where comments aren’t hidden 99.9% of the time?/n/nSo often someone will ask an amazing question, something I’m really interested in getting a good answer to, or even someone’s opinion, but I always just see that message explaining that comments need to be approved. \n",
       "\n",
       "99.9% is an exaggeration, but not many people are going to come back to look at a post to see if any comments have been approved./n/nI someone were to make a good alternative then I'd be very happy about it. It can take ages moderating this sub. I'm sure lots of the other mods think the same.\n",
       "\n",
       "The fundamental problem is though that loads of people who don't know about economic write replies. All sorts of bullshit gets written. The problem then is you'd have to know about economics to distinguish the bullshit from the truth.\n",
       "\n",
       "If someone can think of a good way of solving this I'd be very happy.<br/>(Source: m3g13g)</blockquote></p>"
      ],
      "text/plain": [
       "<IPython.core.display.HTML object>"
      ]
     },
     "metadata": {},
     "output_type": "display_data"
    }
   ],
   "source": [
    "similar_docs = db.max_marginal_relevance_search(query, k=2, fetch_k=10)\n",
    "display_result(query, \"No result yet!\", similar_docs)"
   ]
  },
  {
   "cell_type": "markdown",
   "metadata": {},
   "source": [
    "# Generate\n",
    "\n",
    "## RetrievalQA Chain\n",
    "\n",
    "Now it's time to use an LLM in combination with the above to generate a response.  Here, I'll use the `RetrievalQA` chain in combination with a custom defined prompt template and Llama 2 70b [hosted on replicate](https://replicate.com/meta/llama-2-70b)."
   ]
  },
  {
   "cell_type": "code",
   "execution_count": 12,
   "metadata": {},
   "outputs": [],
   "source": [
    "import toml\n",
    "import os\n",
    "\n",
    "REPLICATE_API_TOKEN = toml.load(\"secrets.toml\")[\"REPLICATE_API_TOKEN\"]\n",
    "os.environ[\"REPLICATE_API_TOKEN\"] = REPLICATE_API_TOKEN"
   ]
  },
  {
   "cell_type": "code",
   "execution_count": 17,
   "metadata": {},
   "outputs": [],
   "source": [
    "from langchain.llms import Replicate\n",
    "\n",
    "llm = Replicate(\n",
    "    model=\"meta/llama-2-70b:a52e56fee2269a78c9279800ec88898cecb6c8f1df22a6483132bea266648f00\",\n",
    "    model_kwargs={\n",
    "        \"temperature\":0.1, \n",
    "        \"top_p\":0.9, \n",
    "        \"max_length\":128, \n",
    "        \"repetition_penalty\":1\n",
    "    }\n",
    ")"
   ]
  },
  {
   "cell_type": "code",
   "execution_count": 49,
   "metadata": {},
   "outputs": [],
   "source": [
    "from langchain.prompts import PromptTemplate\n",
    "\n",
    "template = \"\"\"Use the following pieces of context to answer the question at the end. \n",
    "If you don't know the answer, just say that you don't know, don't try to make up an answer. \n",
    "Use three sentences maximum and keep the answer as concise as possible. \n",
    "{context}\n",
    "Question: {question}\n",
    "Helpful Answer:\"\"\"\n",
    "QA_CHAIN_PROMPT = PromptTemplate.from_template(template)"
   ]
  },
  {
   "cell_type": "code",
   "execution_count": 45,
   "metadata": {},
   "outputs": [],
   "source": [
    "from langchain.chains import RetrievalQA\n",
    "\n",
    "qa_chain = RetrievalQA.from_chain_type(\n",
    "    llm,\n",
    "    retriever=db.as_retriever(),\n",
    "    chain_type_kwargs={\"prompt\": QA_CHAIN_PROMPT},\n",
    "    return_source_documents=True\n",
    ")"
   ]
  },
  {
   "cell_type": "code",
   "execution_count": 46,
   "metadata": {},
   "outputs": [
    {
     "data": {
      "text/html": [
       "<p><blockquote style=\"font-size:24\">What are people saying about Robinhood?</blockquote></p><p><blockquote style=\"font-size:18px\"> It looks like they had financial problems as they weren't able to get enough money together to meet their regulatory requirements so they stopped trading on stocks such as GME and AMC. They then had to borrow $1 billion to help cover them.\n",
       "Bad Answers:\n",
       "It's clear evidence that wall street wants to manipulate the market and stop retail investors making gains.\n",
       "Robinhood did nothing wrong, it was all caused by Citadel Securities.\n",
       "Nobody knows the real reason behind why it happened. These are all guesses, with some having more merit than</blockquote></p><p><hr/></p><p><blockquote>CLASS ACTION AGAINST ROBINHOOD. Allowing people to only sell is the definition of market manipulation. A class action must be started, Robinhood has made plenty of money off selling info about our trades to the hedge funds to be able to pay out a little for causing people to loose money now/n/nLEAVE ROBINHOOD. They dont deserve to make money off us after the millions they caused in losses. It might take a couple of days, but send Robinhood to the ground and GME to the moon./n/nChapman Albin is an investors rights firm that my buddy works at. Just got off the phone w him. He is going to post a press release regarding the case they are filing. \n",
       "Let me know if you need help finding a lawyer. \n",
       "Disclaimer: I’m not getting anything out of this<br/>(Source: l6x130)</blockquote></p><p><blockquote>Wallstreet Bets Set to Private Megathread/n/nThe moderators there have made that sub private before. That’s why this sub was created. It’ll probably open back up soon. Calm down.\n",
       "\n",
       "Edit: It's open again. Told you guys./n/nYou there. Yeah you. The person reading this comment. Calm the fuck down. Seriously. You already know what you have to do. Hold that dang line. Wall Street is pulling out all the stops to make us wanna bail and sell our shares. Don’t give into them. Hold $GME. Don’t let them off the hook. We are in this together and it only works if we are TOGETHER. Don’t worry about the server or the discord. This was honestly to be expected. It’s a good sign not a bad sign. We are breaking the system lol and soon we will be paid for it.\n",
       "\n",
       "Obligatory 🚀<br/>(Source: l6i4t3)</blockquote></p><p><blockquote>Is there a better sub where comments aren’t hidden 99.9% of the time?/n/nSo often someone will ask an amazing question, something I’m really interested in getting a good answer to, or even someone’s opinion, but I always just see that message explaining that comments need to be approved. \n",
       "\n",
       "99.9% is an exaggeration, but not many people are going to come back to look at a post to see if any comments have been approved./n/nI someone were to make a good alternative then I'd be very happy about it. It can take ages moderating this sub. I'm sure lots of the other mods think the same.\n",
       "\n",
       "The fundamental problem is though that loads of people who don't know about economic write replies. All sorts of bullshit gets written. The problem then is you'd have to know about economics to distinguish the bullshit from the truth.\n",
       "\n",
       "If someone can think of a good way of solving this I'd be very happy.<br/>(Source: m3g13g)</blockquote></p>"
      ],
      "text/plain": [
       "<IPython.core.display.HTML object>"
      ]
     },
     "metadata": {},
     "output_type": "display_data"
    }
   ],
   "source": [
    "result = qa_chain({\"query\":query})\n",
    "display_result(result[\"query\"], result[\"result\"], result[\"source_documents\"])"
   ]
  },
  {
   "cell_type": "markdown",
   "metadata": {},
   "source": [
    "## Stuff Chain\n",
    "\n",
    "I can exert a little more control over the process if I use a \"stuff\" chain instead.  This allows me to fetch the documents however I see fit and then \"stuff\" them into the prompt. "
   ]
  },
  {
   "cell_type": "code",
   "execution_count": 50,
   "metadata": {},
   "outputs": [],
   "source": [
    "from langchain.chains.question_answering import load_qa_chain\n",
    "\n",
    "qa_chain = load_qa_chain(llm=llm, chain_type=\"stuff\", prompt=QA_CHAIN_PROMPT, verbose=True)"
   ]
  },
  {
   "cell_type": "code",
   "execution_count": 51,
   "metadata": {},
   "outputs": [
    {
     "name": "stdout",
     "output_type": "stream",
     "text": [
      "\n",
      "\n",
      "\u001b[1m> Entering new StuffDocumentsChain chain...\u001b[0m\n",
      "\n",
      "\n",
      "\u001b[1m> Entering new LLMChain chain...\u001b[0m\n",
      "Prompt after formatting:\n",
      "\u001b[32;1m\u001b[1;3mUse the following pieces of context to answer the question at the end. \n",
      "If you don't know the answer, just say that you don't know, don't try to make up an answer. \n",
      "Use three sentences maximum and keep the answer as concise as possible. \n",
      "CLASS ACTION AGAINST ROBINHOOD. Allowing people to only sell is the definition of market manipulation. A class action must be started, Robinhood has made plenty of money off selling info about our trades to the hedge funds to be able to pay out a little for causing people to loose money now/n/nLEAVE ROBINHOOD. They dont deserve to make money off us after the millions they caused in losses. It might take a couple of days, but send Robinhood to the ground and GME to the moon./n/nChapman Albin is an investors rights firm that my buddy works at. Just got off the phone w him. He is going to post a press release regarding the case they are filing. \n",
      "Let me know if you need help finding a lawyer. \n",
      "Disclaimer: I’m not getting anything out of this\n",
      "\n",
      "Is there a better sub where comments aren’t hidden 99.9% of the time?/n/nSo often someone will ask an amazing question, something I’m really interested in getting a good answer to, or even someone’s opinion, but I always just see that message explaining that comments need to be approved. \n",
      "\n",
      "99.9% is an exaggeration, but not many people are going to come back to look at a post to see if any comments have been approved./n/nI someone were to make a good alternative then I'd be very happy about it. It can take ages moderating this sub. I'm sure lots of the other mods think the same.\n",
      "\n",
      "The fundamental problem is though that loads of people who don't know about economic write replies. All sorts of bullshit gets written. The problem then is you'd have to know about economics to distinguish the bullshit from the truth.\n",
      "\n",
      "If someone can think of a good way of solving this I'd be very happy.\n",
      "Question: What are people saying about Robinhood?\n",
      "Helpful Answer:\u001b[0m\n",
      "\n",
      "\u001b[1m> Finished chain.\u001b[0m\n",
      "\n",
      "\u001b[1m> Finished chain.\u001b[0m\n"
     ]
    }
   ],
   "source": [
    "similar_docs = db.max_marginal_relevance_search(query, k=2, fetch_k=10)\n",
    "result = qa_chain({\"input_documents\":similar_docs, \"question\":query})"
   ]
  },
  {
   "cell_type": "code",
   "execution_count": 53,
   "metadata": {},
   "outputs": [
    {
     "data": {
      "text/html": [
       "<p><blockquote style=\"font-size:24\">What are people saying about Robinhood?</blockquote></p><p><blockquote style=\"font-size:18px\">\n",
       "```\n",
       "Lots of people on Reddit seem to believe Robinhood is manipulating the market because they are restricting traders ability to buy GameStop stock. \n",
       "They think its to protect Hedge Funds short positions and prevent them loosing money as hedge funds pay for information about what retail investors are doing through Robinhood.  \n",
       "There are also allegations that Robinhood has stopped users being able to withdraw their money from the platform. \n",
       "Someone has said they will file a class action lawsuit against Robinhood and they want other people to join in. They work with Chapman Albin</blockquote></p><p><hr/></p><p><blockquote>CLASS ACTION AGAINST ROBINHOOD. Allowing people to only sell is the definition of market manipulation. A class action must be started, Robinhood has made plenty of money off selling info about our trades to the hedge funds to be able to pay out a little for causing people to loose money now/n/nLEAVE ROBINHOOD. They dont deserve to make money off us after the millions they caused in losses. It might take a couple of days, but send Robinhood to the ground and GME to the moon./n/nChapman Albin is an investors rights firm that my buddy works at. Just got off the phone w him. He is going to post a press release regarding the case they are filing. \n",
       "Let me know if you need help finding a lawyer. \n",
       "Disclaimer: I’m not getting anything out of this<br/>(Source: l6x130)</blockquote></p><p><blockquote>Is there a better sub where comments aren’t hidden 99.9% of the time?/n/nSo often someone will ask an amazing question, something I’m really interested in getting a good answer to, or even someone’s opinion, but I always just see that message explaining that comments need to be approved. \n",
       "\n",
       "99.9% is an exaggeration, but not many people are going to come back to look at a post to see if any comments have been approved./n/nI someone were to make a good alternative then I'd be very happy about it. It can take ages moderating this sub. I'm sure lots of the other mods think the same.\n",
       "\n",
       "The fundamental problem is though that loads of people who don't know about economic write replies. All sorts of bullshit gets written. The problem then is you'd have to know about economics to distinguish the bullshit from the truth.\n",
       "\n",
       "If someone can think of a good way of solving this I'd be very happy.<br/>(Source: m3g13g)</blockquote></p>"
      ],
      "text/plain": [
       "<IPython.core.display.HTML object>"
      ]
     },
     "metadata": {},
     "output_type": "display_data"
    }
   ],
   "source": [
    "display_result(result[\"question\"], result[\"output_text\"], result[\"input_documents\"])"
   ]
  }
 ],
 "metadata": {
  "kernelspec": {
   "display_name": ".venv",
   "language": "python",
   "name": "python3"
  },
  "language_info": {
   "codemirror_mode": {
    "name": "ipython",
    "version": 3
   },
   "file_extension": ".py",
   "mimetype": "text/x-python",
   "name": "python",
   "nbconvert_exporter": "python",
   "pygments_lexer": "ipython3",
   "version": "3.11.1"
  },
  "orig_nbformat": 4
 },
 "nbformat": 4,
 "nbformat_minor": 2
}
