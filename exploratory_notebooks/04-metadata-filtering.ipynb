{
 "cells": [
  {
   "cell_type": "markdown",
   "metadata": {},
   "source": [
    "# Purpose\n",
    "The purpose of this notebook is to explore the use of metadata filters to provide more relevant context within a RAG workflow.  I'll use a [self-querying retriever](https://python.langchain.com/docs/modules/data_connection/retrievers/self_query/) from `langchain` to automatically apply metadata filters where appropriate.\n",
    "\n",
    "# Vector Database\n",
    "\n",
    "## Document Loading\n",
    "For this example, I've pulled 8 of my publications from my [Google Scholar profile](https://scholar.google.com/citations?user=tqJqwA4AAAAJ&hl=en) and saved them as pdfs.  The filenames include metadata with the following format: `<date>_<publication_type>_<journal>_<authorship>.pdf`.  I'll write a function which extracts all metadata from the filename and attaches to each document during the import process.  This way all metadata will stay attached to each document and, eventually, each index."
   ]
  },
  {
   "cell_type": "code",
   "execution_count": 1,
   "metadata": {},
   "outputs": [],
   "source": [
    "def get_metadata(filepath):\n",
    "    # Extract the base filename (without directories)\n",
    "    base_filename = filepath.split(\"/\")[-1]\n",
    "\n",
    "    # Split the base filename using the \"_\" separator\n",
    "    parts = base_filename.split(\"_\")\n",
    "    \n",
    "    # Check if there are exactly four parts\n",
    "    if len(parts) == 4:\n",
    "        date, publication_type, journal = parts[0:3]\n",
    "        # extract year\n",
    "        year, __, __ = date.split(\"-\")\n",
    "        # remove file extension from the last part\n",
    "        authorship, __ = parts[-1].rsplit('.', 1)\n",
    "        return {\n",
    "            \"year\":int(year), \n",
    "            \"publication_type\":publication_type, \n",
    "            \"journal\":journal, \n",
    "            \"authorship\":authorship\n",
    "        }\n",
    "    else:\n",
    "        # Handle the case where the input string doesn't have the expected format\n",
    "        raise ValueError(\"Input string doesn't match the expected format\")"
   ]
  },
  {
   "cell_type": "code",
   "execution_count": 9,
   "metadata": {},
   "outputs": [],
   "source": [
    "import os\n",
    "\n",
    "def list_files_in_directory(directory_path):\n",
    "    # Get a list of all files in the specified directory\n",
    "    files = os.listdir(directory_path)\n",
    "    \n",
    "    # Filter out only the files (not directories) with a .pdf extension\n",
    "    pdf_files = [file for file in files if os.path.isfile(os.path.join(directory_path, file)) and file.lower().endswith(\".pdf\")]\n",
    "    \n",
    "    return pdf_files"
   ]
  },
  {
   "cell_type": "code",
   "execution_count": 10,
   "metadata": {},
   "outputs": [],
   "source": [
    "data_dir = \"data/docs/\"\n",
    "files = list_files_in_directory(data_dir)"
   ]
  },
  {
   "cell_type": "code",
   "execution_count": null,
   "metadata": {},
   "outputs": [],
   "source": [
    "# Specify the directory path where your files are located\n",
    "directory_path = \"/path/to/your/directory\"\n",
    "\n",
    "# List all files in the directory\n",
    "files = list_files_in_directory(directory_path)\n",
    "\n",
    "# Loop through each file and apply the split_filename_with_path function\n",
    "for file in files:\n",
    "    try:\n",
    "        date_title, authorship, extension = split_filename_with_path(file)\n",
    "        print(f\"File: {file}, Date and Title: {date_title}, Authorship: {authorship}, Extension: {extension}\")\n",
    "    except ValueError as e:\n",
    "        print(f\"Error processing file {file}: {e}\")\n"
   ]
  },
  {
   "cell_type": "code",
   "execution_count": 19,
   "metadata": {},
   "outputs": [],
   "source": [
    "from langchain.document_loaders import PyPDFLoader\n",
    "from langchain.text_splitter import CharacterTextSplitter\n",
    "\n",
    "all_pages = []\n",
    "for file in files:\n",
    "    try:\n",
    "        metadata = get_metadata(file)\n",
    "        loader = PyPDFLoader(data_dir + file)\n",
    "        pages = loader.load_and_split()\n",
    "        # add metadata to each page\n",
    "        for page in pages:\n",
    "            page.metadata.update(metadata)\n",
    "        all_pages.extend(pages)\n",
    "    except ValueError as e:\n",
    "        print(f\"Error processing file {file}: {e}\")\n",
    "\n",
    "# split pages into max 1000 chr chunks\n",
    "text_splitter = CharacterTextSplitter(        \n",
    "    separator = \"\\n\\n\",\n",
    "    chunk_size = 1000,\n",
    "    chunk_overlap  = 200,\n",
    "    length_function = len,\n",
    "    is_separator_regex = False,\n",
    ")\n",
    "docs = text_splitter.split_documents(all_pages)"
   ]
  },
  {
   "cell_type": "markdown",
   "metadata": {},
   "source": [
    "## Embed and Store\n",
    "\n",
    "There are many vector store options which will allow me to work with the metadata as filters, but I'm going with [Pinecone](pinecone.io) here because it offers a very smooth user experienced through a managed UI.  It is only free to host a single index at a time, however.  I'll also use OpenAI for the embedding model."
   ]
  },
  {
   "cell_type": "code",
   "execution_count": 21,
   "metadata": {},
   "outputs": [
    {
     "name": "stderr",
     "output_type": "stream",
     "text": [
      "/Users/mcnewcp/code/contextual-qa-chat-app/.venv/lib/python3.11/site-packages/pinecone/index.py:4: TqdmExperimentalWarning: Using `tqdm.autonotebook.tqdm` in notebook mode. Use `tqdm.tqdm` instead to force console mode (e.g. in jupyter console)\n",
      "  from tqdm.autonotebook import tqdm\n"
     ]
    }
   ],
   "source": [
    "import os\n",
    "import toml\n",
    "import pinecone\n",
    "from langchain.embeddings.openai import OpenAIEmbeddings\n",
    "from langchain.vectorstores import Pinecone\n",
    "\n",
    "os.environ[\"PINECONE_API_KEY\"] = toml.load(\"secrets.toml\")[\"PINECONE_API_KEY\"]\n",
    "os.environ[\"OPENAI_API_KEY\"] = toml.load(\"secrets.toml\")[\"OPENAI_API_TOKEN\"]\n",
    "\n",
    "index_name = \"publications-mcnew\"\n",
    "pinecone.init(environment=toml.load(\"secrets.toml\")[\"PINECONE_ENV\"])\n",
    "\n",
    "if index_name not in pinecone.list_indexes():\n",
    "    pinecone.create_index(name=index_name, dimension=1536, metric=\"cosine\")\n",
    "pinecone_index = pinecone.Index(index_name)\n",
    "\n",
    "embeddings = OpenAIEmbeddings()\n",
    "vectorstore = Pinecone.from_documents(\n",
    "    docs, embeddings, index_name=index_name\n",
    ")"
   ]
  },
  {
   "cell_type": "code",
   "execution_count": 22,
   "metadata": {},
   "outputs": [],
   "source": [
    "# loading from source (skip above cell if index is already built)\n",
    "from langchain.vectorstores import Pinecone\n",
    "from langchain.embeddings import OpenAIEmbeddings\n",
    "\n",
    "embeddings = OpenAIEmbeddings()\n",
    "vectorstore = Pinecone.from_existing_index(index_name=index_name, embedding=embeddings)"
   ]
  },
  {
   "cell_type": "markdown",
   "metadata": {},
   "source": [
    "# Self Query Retriever\n",
    "Now I can build the [self query retriever](https://python.langchain.com/docs/modules/data_connection/retrievers/self_query/) which will use an LLM to determine when and if to apply metadata filters when retrieving documents.  First, I'll need to define information about each metadata field for which I'd like the LLM to have access.  This will be used by the LLM for decision making so it needs to be descriptive and concise."
   ]
  },
  {
   "cell_type": "code",
   "execution_count": 23,
   "metadata": {},
   "outputs": [],
   "source": [
    "from langchain.llms import OpenAI\n",
    "from langchain.retrievers.self_query.base import SelfQueryRetriever\n",
    "from langchain.chains.query_constructor.base import AttributeInfo\n",
    "\n",
    "metadata_field_info=[\n",
    "    AttributeInfo(\n",
    "        name=\"year\",\n",
    "        description=\"The year the publication was published\", \n",
    "        type=\"integer\", \n",
    "    ),\n",
    "    AttributeInfo(\n",
    "        name=\"publication_type\",\n",
    "        description=\"The type of publication, one of [paper, dissertation]\", \n",
    "        type=\"string\", \n",
    "    ),\n",
    "    AttributeInfo(\n",
    "        name=\"journal\",\n",
    "        description=\"The journal in which the publication was published\", \n",
    "        type=\"string\", \n",
    "    ),\n",
    "]\n",
    "document_content_description = \"Text content and metadata from all of the user's publications\"\n",
    "llm = OpenAI(temperature=0)\n",
    "retriever = SelfQueryRetriever.from_llm(llm, vectorstore, document_content_description, metadata_field_info, verbose=True)"
   ]
  },
  {
   "cell_type": "markdown",
   "metadata": {},
   "source": [
    "## Test Retriever\n",
    "### No filter\n",
    "If the query doesn't contain any information that the LLM determines is relevant to a metadata filter, the similarity search will be executed as a standard retriever."
   ]
  },
  {
   "cell_type": "code",
   "execution_count": 24,
   "metadata": {},
   "outputs": [
    {
     "name": "stderr",
     "output_type": "stream",
     "text": [
      "/Users/mcnewcp/code/contextual-qa-chat-app/.venv/lib/python3.11/site-packages/langchain/chains/llm.py:280: UserWarning: The predict_and_parse method is deprecated, instead pass an output parser directly to LLMChain.\n",
      "  warnings.warn(\n"
     ]
    },
    {
     "name": "stdout",
     "output_type": "stream",
     "text": [
      "query='DNA' filter=None limit=None\n"
     ]
    },
    {
     "data": {
      "text/plain": [
       "[Document(page_content='Appendix B. DNA sequences\\nTable B.1: Nucleotide sequences of the 4 DNA-labels, primers, and probes used in this study.\\nBold and underlined segments indicate forward and reverse primer locations.\\nT3 5’- AA A GTA AAG CAG CAG AGG TGG ACA GAG GAA\\nGAG CAG AAG AAG GAA AGA ATG CTG GGA AGA\\nGGA AGA ACG CAA GGC AAA GCG GA G GTA - 3’\\nT3\\nProbe5’- /56-FAM/AGC AGA AGA /ZEN/AGG AAA GAA TGC TGG\\nGA/3IABkFQ/ - 3’\\nT4 5’- AC A CGG ATC AAT CGG ATG TCA GGA TTC CCA\\nGCT CGC AAC TTA CCG ACC TGG ATG AGG AGT GGC CGT\\nGAA AG C ACA GAC ACC GTA GAA AAG ACA ACC CT\\n- 3’\\nT4\\nProbe5’- /5HEX/CGC AAC TTA /ZEN/CCG ACC TGG ATG AGG\\n/3IABkFQ/ -3’\\nT10 5’ - G GC TCT CAC TGT GTA CAT GTG TTA T CT GCC\\nTTT CGT CGG GGC GGT AAT TCT TGG TGC ACA\\nGAC AAT CTT AAT AAG AGT CAG GAC TGG GT C - 3’\\nT12 5’- CCG TAG AGA TCT CCC ATC TGT CCT TTG CTG\\nAAG GTT AAA ACC CCG GAC CGC CTA GAA TAT\\nTCT TTC TTT AGC TCC AAA ATG GCC TCT C - 3’\\nAppendix C. Additional Characterization Details\\nAn aliquot of particle suspension was mixed with a pre-measured amount\\nof mono (NaCl) or divalent (CaCl 2) salt and the mean particle diameter was\\nimmediately monitored over time. In this manner, the particle aggregation 715\\nrate, or rate of change in particle diameter over time, k, was measured under\\nvarying ionic conditions. In each experiment, the particle concentration was\\nheld constant at 10 mg/L (2.8 ×104particles/µL) and the solution was buﬀered\\nto a pH of 7 using TE (5 mM Tris, 0.5 mM EDTA). The presence of ions in\\n34', metadata={'authorship': 'first', 'journal': 'Journal of Colloid and Interface Science', 'page': 35.0, 'publication_type': 'paper', 'source': 'data/docs/2018-09-01_paper_Journal of Colloid and Interface Science_first.pdf', 'year': 2018.0}),\n",
       " Document(page_content='Figure 1: Representative qPCR standard curve for the quantiﬁcation of the T3 DNA sequence\\n(a) and calculation of the qPCR replication eﬃciency (b). Each measurement was performed\\nin triplicate and the resultant detection range for this sequence was 150 - 107copies per 4 µL\\nsample.\\nneeded for the qPCR analysis of the experiment.\\n2.4. DNA-label design\\nThe synthetic, double-stranded DNA sequences used for particle labeling\\nwere designed as described in our previous publications [13, 14]. A list of the 210\\nnucleotide sequences, primers, and probes used for this study can be found in\\nTable B.1. For both qPCR reaction methods (e.g. single and multi-channel)\\nforward and reverse primers are needed for each sequence. The multi-channel\\nreaction method requires the use of a TaqMan probe, which consists of an ad-\\nditional short (5’ to 3’) sequence with a quencher on the 5’ (e.g. ZEN in- 215\\nternal quencher, Integrated DNA Technologies) and 3’ (Iowa Black ®forward\\nquencher) end and a reporter dye such as TET (Dual-Labeled tetrachloroﬂuo-\\nrescein), FAM (6-carboxyﬂuorescein amidite), or HEX (hexachloroﬂuorescein).\\nIt should also be noted here that during the design of each sequence, the Na-\\ntional Center for Biotechnology Information’s Nucleotide Primer-BLAST Tool 220\\n[45] is used to ensure that the selected sequences have no similarities to natural\\nDNA.\\n9', metadata={'authorship': 'first', 'journal': 'Journal of Colloid and Interface Science', 'page': 10.0, 'publication_type': 'paper', 'source': 'data/docs/2018-09-01_paper_Journal of Colloid and Interface Science_first.pdf', 'year': 2018.0}),\n",
       " Document(page_content='pH of 8.0 and consisted of 10 mM Tris and 1 mM EDTA) to keep DNA negatively charged and\\nwell suspended and protected from degradation.  Each DNA molecule is typically curled up into\\na rod with an estimated diameter and length of 2.4 nm and 29.4 nm, respectively (calculated\\naccording to Mandelkern et al. (1981) ). The free DNA molecule therefore falls in the lower size\\nrange of colloids (1 nm ~ 10 μm) and is in many ways comparable to the size of known\\nnanoparticles such as silver, gold or silica nanoparticles. However, the mass (26,857.4 Da) and\\nstructure of the single-stranded DNA molecule are more like biocolloids such as viruses and\\nbacteriophages,  which  often  consist  of  a  single-stranded  or  double-stranded  DNA  or  RNA\\nwrapped by protein (Chu et al., 2001; Jin and Flury, 2002; Jin et al., 1997) . \\nA 1 mL sample was taken from the free DNA tracer solution right before application to the\\nlysimeter to determine the initial tracer mass. Discharge samples were collected in the trough at\\nthe bottom of the downslope face of the lysimeter (see Figure S1 and section “S1. Experiment\\ndetails” in  the  Supporting  Information  for  more  information).  Discharge  was  collected  in\\nsterilized 5 ml tubes (Eppendorf AG, Hamburg, Germany) every half hour during the first three\\ndays and every hour for the remainder of the experiment using a temperature controlled auto-\\nsampler. The discharge samples were stored in a -20 C freezer until free DNA quantification by  ̊\\nthe qPCR method described above, which was finished within two weeks after the experiment.\\nThe discharged free DNA flux was determined by the product of concentration and discharge.\\nAnd the recovery rate of free DNA was the ratio of discharged free DNA to total injection (50 ml\\nsolution with a concentration of 2.64 × 1013 copies/ml). 235\\n236\\n237\\n238\\n239\\n240\\n241\\n242\\n243\\n244\\n245\\n246\\n247\\n248\\n249\\n250\\n251\\n252\\n253\\n254\\n255', metadata={'authorship': 'third', 'journal': 'Water Research', 'page': 12.0, 'publication_type': 'paper', 'source': 'data/docs/2022-09-01_paper_Water Research_third.pdf', 'year': 2022.0}),\n",
       " Document(page_content='crushed rocks) and the microbes and DNase that could potentially degrade DNA in regular\\nsoils were rare in our “loamy sand”.\\n\\uf06cThe timing of the concentration peaks and the HYDRUS-2D simulated temporal and spatial\\ndistribution of DNA  in the lysimeter  both revealed the role of the solid-water-air contact\\nlines in mobilizing and carrying DNA under the experimental variably saturated transient\\nflow condition.  The free DNA was nearly non-selectively transported through the porous\\nmedia, and showed a slightly early breakthrough, possibly due to a slight effect of anion\\nexclusion or size exclusion.\\n\\uf06cOverall, the observed and modeled DNA transport presented here suggests that the synthetic\\nDNA tracer share similar transport properties as viruses, as the transport could be captured\\nwell by the two-site kinetic sorption model recommended for virus transport modeling .\\n\\uf06cGiven its transport dynamics, synthetic DNA tracers have the potential to be used to trace\\nthe transport of viruses and other biocolloids in soil-water systems.\\n\\uf06cConducting  controlled  experiments  comparing  transport  of  synthetic  DNA  tracers  and\\nviruses of interest through vadose zone systems and simulating their transport using the two-\\nsite kinetic sorption model could improve understanding of the use of synthetic DNA tracers\\nas tracer surrogates to study virus transport in soil-water systems.\\n\\uf06cThe use of synthetic DNA tracers would allow identifying sources and pathways of viruses\\nin the watershed to devise targeted measures to regulate viral source areas such as septic\\nsystems or sewage sludge disposal areas within a watershed.562\\n563\\n564\\n565\\n566\\n567\\n568\\n569\\n570\\n571\\n572\\n573\\n574\\n575\\n576\\n577\\n578\\n579\\n580\\n581\\n582', metadata={'authorship': 'third', 'journal': 'Water Research', 'page': 30.0, 'publication_type': 'paper', 'source': 'data/docs/2022-09-01_paper_Water Research_third.pdf', 'year': 2022.0})]"
      ]
     },
     "execution_count": 24,
     "metadata": {},
     "output_type": "execute_result"
    }
   ],
   "source": [
    "retriever.get_relevant_documents(\"What are some things I wrote about DNA?\")"
   ]
  },
  {
   "cell_type": "markdown",
   "metadata": {},
   "source": [
    "### Metadata Filter(s) Applied\n",
    "If the LLM determines the query contains information relevant to the metadata, it will automatically apply one or more filters prior to the similarity search."
   ]
  },
  {
   "cell_type": "code",
   "execution_count": 25,
   "metadata": {},
   "outputs": [
    {
     "name": "stdout",
     "output_type": "stream",
     "text": [
      "query='DNA' filter=Comparison(comparator=<Comparator.LT: 'lt'>, attribute='year', value=2019) limit=None\n"
     ]
    },
    {
     "data": {
      "text/plain": [
       "[Document(page_content='Appendix B. DNA sequences\\nTable B.1: Nucleotide sequences of the 4 DNA-labels, primers, and probes used in this study.\\nBold and underlined segments indicate forward and reverse primer locations.\\nT3 5’- AA A GTA AAG CAG CAG AGG TGG ACA GAG GAA\\nGAG CAG AAG AAG GAA AGA ATG CTG GGA AGA\\nGGA AGA ACG CAA GGC AAA GCG GA G GTA - 3’\\nT3\\nProbe5’- /56-FAM/AGC AGA AGA /ZEN/AGG AAA GAA TGC TGG\\nGA/3IABkFQ/ - 3’\\nT4 5’- AC A CGG ATC AAT CGG ATG TCA GGA TTC CCA\\nGCT CGC AAC TTA CCG ACC TGG ATG AGG AGT GGC CGT\\nGAA AG C ACA GAC ACC GTA GAA AAG ACA ACC CT\\n- 3’\\nT4\\nProbe5’- /5HEX/CGC AAC TTA /ZEN/CCG ACC TGG ATG AGG\\n/3IABkFQ/ -3’\\nT10 5’ - G GC TCT CAC TGT GTA CAT GTG TTA T CT GCC\\nTTT CGT CGG GGC GGT AAT TCT TGG TGC ACA\\nGAC AAT CTT AAT AAG AGT CAG GAC TGG GT C - 3’\\nT12 5’- CCG TAG AGA TCT CCC ATC TGT CCT TTG CTG\\nAAG GTT AAA ACC CCG GAC CGC CTA GAA TAT\\nTCT TTC TTT AGC TCC AAA ATG GCC TCT C - 3’\\nAppendix C. Additional Characterization Details\\nAn aliquot of particle suspension was mixed with a pre-measured amount\\nof mono (NaCl) or divalent (CaCl 2) salt and the mean particle diameter was\\nimmediately monitored over time. In this manner, the particle aggregation 715\\nrate, or rate of change in particle diameter over time, k, was measured under\\nvarying ionic conditions. In each experiment, the particle concentration was\\nheld constant at 10 mg/L (2.8 ×104particles/µL) and the solution was buﬀered\\nto a pH of 7 using TE (5 mM Tris, 0.5 mM EDTA). The presence of ions in\\n34', metadata={'authorship': 'first', 'journal': 'Journal of Colloid and Interface Science', 'page': 35.0, 'publication_type': 'paper', 'source': 'data/docs/2018-09-01_paper_Journal of Colloid and Interface Science_first.pdf', 'year': 2018.0}),\n",
       " Document(page_content='Figure 1: Representative qPCR standard curve for the quantiﬁcation of the T3 DNA sequence\\n(a) and calculation of the qPCR replication eﬃciency (b). Each measurement was performed\\nin triplicate and the resultant detection range for this sequence was 150 - 107copies per 4 µL\\nsample.\\nneeded for the qPCR analysis of the experiment.\\n2.4. DNA-label design\\nThe synthetic, double-stranded DNA sequences used for particle labeling\\nwere designed as described in our previous publications [13, 14]. A list of the 210\\nnucleotide sequences, primers, and probes used for this study can be found in\\nTable B.1. For both qPCR reaction methods (e.g. single and multi-channel)\\nforward and reverse primers are needed for each sequence. The multi-channel\\nreaction method requires the use of a TaqMan probe, which consists of an ad-\\nditional short (5’ to 3’) sequence with a quencher on the 5’ (e.g. ZEN in- 215\\nternal quencher, Integrated DNA Technologies) and 3’ (Iowa Black ®forward\\nquencher) end and a reporter dye such as TET (Dual-Labeled tetrachloroﬂuo-\\nrescein), FAM (6-carboxyﬂuorescein amidite), or HEX (hexachloroﬂuorescein).\\nIt should also be noted here that during the design of each sequence, the Na-\\ntional Center for Biotechnology Information’s Nucleotide Primer-BLAST Tool 220\\n[45] is used to ensure that the selected sequences have no similarities to natural\\nDNA.\\n9', metadata={'authorship': 'first', 'journal': 'Journal of Colloid and Interface Science', 'page': 10.0, 'publication_type': 'paper', 'source': 'data/docs/2018-09-01_paper_Journal of Colloid and Interface Science_first.pdf', 'year': 2018.0}),\n",
       " Document(page_content='erties, would allow for a much more powerful characterization, description, and, 60\\nultimately, prediction of transport pathways in the environment.\\nThe use of unencapsulated, synthetic DNA as an environmental tracer has\\npreviously been explored [35, 36] and, although it has proven useful in identi-\\nfying contaminant source contributions in limited cases [36, 37], DNA has the\\ndisadvantage of degrading quickly in the natural environment, unless bound to 65\\nnatural colloids [38] or polycyclic aromatic hydrocarbons. In order to control the\\ndegradation of the synthetic DNA sequences and allow for quantitative experi-\\nments at time scales required for ﬁeld studies, we previously explored encapsu-\\nlating DNA in poly lactic acid (PLA) microspheres in a proof-of-concept study\\n[13] and then applied this technology to characterize hydrologic ﬂow pathways 70\\nthrough a 3.2 km2glacier in northern Sweden [14]. In the study by Dahlke\\net al.[14], nine unique DNA-labeled tracers were applied at spatially varying\\nlocations throughout the glacier and breakthroughs were monitored. Though\\nmass recovery of the DNA-labeled tracers was lower than that of ﬂuorescent dye,\\nadvection-dispersion information obtained from the tracers provided insight into 75\\nthe complex hydrologic ﬂow pathway system of the glacier.\\nIn this paper, we present new advances in DNA-labeled particle tracer tech-\\nnology for use in environmental and hydrological ﬂow and transport studies.\\nDetailed methodologies are introduced for the preparation of DNA-labeled par-\\nticles, control of particle size, extraction of synthetic DNA-labels, and quanti- 80\\ntative analysis via qPCR. An in depth characterization of particle properties\\nis also provided, including particle morphology, size, charge, colloidal stability,\\nand encapsulation and extraction eﬃciencies. Furthermore, the relationship be-\\ntween particle mass concentration and DNA-label count is analyzed, which is\\nan important aspect for using the DNA-labeled particles in quantitative fate 85\\nand transport studies. Finally, we present the results from two environmental\\napplications of the DNA-labeled particles, which highlight their feasibility for\\nuse in environmental studies.\\n4', metadata={'authorship': 'first', 'journal': 'Journal of Colloid and Interface Science', 'page': 5.0, 'publication_type': 'paper', 'source': 'data/docs/2018-09-01_paper_Journal of Colloid and Interface Science_first.pdf', 'year': 2018.0}),\n",
       " Document(page_content='Figure 10: DNA-labeled particle degradation in the presence of DI water (a), NaCl (b), and\\nstream water (c). Error bars represent standard deviation.21', metadata={'authorship': 'first', 'journal': 'Journal of Colloid and Interface Science', 'page': 22.0, 'publication_type': 'paper', 'source': 'data/docs/2018-09-01_paper_Journal of Colloid and Interface Science_first.pdf', 'year': 2018.0})]"
      ]
     },
     "execution_count": 25,
     "metadata": {},
     "output_type": "execute_result"
    }
   ],
   "source": [
    "retriever.get_relevant_documents(\"What are some things I said about DNA prior to 2019?\")"
   ]
  },
  {
   "cell_type": "code",
   "execution_count": 26,
   "metadata": {},
   "outputs": [
    {
     "name": "stderr",
     "output_type": "stream",
     "text": [
      "/Users/mcnewcp/code/contextual-qa-chat-app/.venv/lib/python3.11/site-packages/langchain/chains/llm.py:280: UserWarning: The predict_and_parse method is deprecated, instead pass an output parser directly to LLMChain.\n",
      "  warnings.warn(\n"
     ]
    },
    {
     "name": "stdout",
     "output_type": "stream",
     "text": [
      "query='machine learning' filter=Operation(operator=<Operator.AND: 'and'>, arguments=[Comparison(comparator=<Comparator.EQ: 'eq'>, attribute='publication_type', value='paper'), Comparison(comparator=<Comparator.LT: 'lt'>, attribute='year', value=2018)]) limit=None\n"
     ]
    },
    {
     "data": {
      "text/plain": [
       "[Document(page_content='(note that the breakthrough proﬁle alone is notdiagnostic in determining if current PTMs can be applied).8Articlepubs.acs.org/estThis is an open access article published under an ACS AuthorChoice License, which permitscopying and redistribution of the article or any adaptations for non-commercial purposes.', metadata={'authorship': 'second', 'journal': 'Environmental Science and Technology', 'page': 0.0, 'publication_type': 'paper', 'source': 'data/docs/2017-03-07_paper_Environmental Science and Technology_second.pdf', 'year': 2017.0}),\n",
       " Document(page_content='What Factors Determine the Retention Behavior of EngineeredNanomaterials in Saturated Porous Media?Eli  Goldberg,†Coy  McNew,‡Martin  Scheringer,*,§,†Thomas  D.  Bucheli,∥Peter  Nelson,⊥and  Konrad  Hungerbühler††Institute for Chemical and Bioengineering, ETH Zürich, 8093 Zürich, Switzerland‡Department of Land, Air, and Water Resources, University of California, Davis, California 95616, United States§RECETOX, Masaryk University, 625 00 Brno, Czech Republic∥Agroscope Institute for Sustainability Sciences ISS, 8046 Zürich, Switzerland⊥Aware Engineering GmbH, 8050 Zürich, Switzerland*SSupporting InformationABSTRACT:A fundamental problem associated with thevertical transport of engineered nanomaterials (ENMs) insaturated porous media is the occurrence of nonexponential,for example, nonmonotonic or linearly increasing, retentionproﬁles. To investigate this problem, we compiled an extensivedatabase of ENMs transport experiments in saturated porousmedia. Using this database we trained a decision tree thatshows the order of importance, and range of inﬂuence, of thephysicochemical factors that control the retention proﬁleshape. Our results help identify domains where currentparticle-transport models can be used, but also highlight, fortheﬁrst time, large domains where nonexponential retention proﬁles dominate and new approaches are needed to understandENM transport. Importantly, highly advectiveﬂow and high ENM inﬂuent mass can mask the inﬂuence of other physicochemicalfactors on the retention proﬁle shape; notably, this occurs in 50% of the experiments investigated. Where the relationshipbetween physicochemical factors and retention proﬁle shape can be investigated in detail, our results agree with, and providevalidation for, the current understanding of how these factors inﬂuence ENM transport.■INTRODUCTIONMany of the metals that comprise the most commonlyproduced engineered nanomaterials (ENMs) (e.g., TiO2,FeOx, ZnO, and CuO) occur naturally in soil.1These naturalanalogues are present in concentrations within, or even above,the range of predicted environmental concentrations for ENMsin soil,2,3which makes it difﬁcult to distinguish ENMs from thebackground of natural materials. As a result, investigation of thetransport behavior of ENMs in soil is generally constrained tocolumn transport experiments performed in synthetic soilsystems (mostly monodisperse, fully saturated, single-mediasoils).Soil column experiments yield a breakthrough curve and aretention proﬁle. A breakthrough curve provides temporalinformation concerning the concentration of ENMs leaving thecolumn in relation to the concentration of ENMs entering thecolumn. A retention proﬁle provides information concerningthe spatial distribution of ENMs in relation to the depth of soilat the end of the experiment. To simulate transport and relatewith themselves and the soil during transport (e.g., particleaggregation, deposition, remobilization, removal by straining).However, most PTMs commonly employed to track ENMsin soil are conceptuallyﬂawed. The problem is not that theylack descriptive ability entirely, as they can well describe a largeportion of observed ENM transport behavior.4−7It is ratherthat the mathematical construction of these models considersneither the physicochemical properties of the ENMs, nor thoseof the system as a whole, explicitly.8,9The ability of PTMs to describe ENM transport is generallylimited to conditions that result in exponential or hyper-exponential retention proﬁles (collectively referred to as“exponential”).10,11However, in many experiments nonmono-tonic, linearly increasing, or decreasing (collectively referred toas“nonexponential”) retention is observed.8In these cases,PTMs cannot qualitatively describe, let alone predict,10,11ENMtransport (note that the breakthrough proﬁle alone is notdiagnostic in determining if current PTMs can be applied).8Articlepubs.acs.org/estThis is an open access article published under an ACS AuthorChoice', metadata={'authorship': 'second', 'journal': 'Environmental Science and Technology', 'page': 0.0, 'publication_type': 'paper', 'source': 'data/docs/2017-03-07_paper_Environmental Science and Technology_second.pdf', 'year': 2017.0}),\n",
       " Document(page_content='Subir Bhattacharjee and Menachem Elimelech. Surface element integration: 469\\na novel technique for evaluation of dlvo interaction between a particle and a 470\\nﬂat plate. Journal of Colloid and Interface Science , 193(2):273–285, 1997. 471\\nStefan Blaser. Forces on the surface of small ellipsoidal particles immersed 472\\nin a linear ﬂow ﬁeld. Chemical Engineering Science , 57(3):515–526, 2002. 473\\nJulie A. Champion, Yogesh K. Katare, and Samir Mitragotri. Making poly- 474\\nmeric micro- and nanoparticles of complex shapes. Proceedings of the Na- 475\\ntional Academy of Sciences , 104(29):11901–11904, 2007. 476\\nXiaojun Chang and Dermont C. Bouchard. Multiwalled carbon nanotube 477\\ndeposition on model environmental surfaces. Environmental Science & 478\\nTechnology , 47(18):10372–10380, 2013. 479\\nKai Loon Chen and Menachem Elimelech. Aggregation and deposition ki- 480\\nnetics of fullerene (c-60) nanoparticles. Langmuir , 22(26):10994–11001, 481\\n2006. 482\\nKai Loon Chen and Menachem Elimelech. Interaction of fullerene (c-60) 483\\nnanoparticles with humic acid and alginate coated silica surfaces: Mea- 484\\nsurements, mechanisms, and environmental implications. Environmental 485\\nScience & Technology , 42(20):7607–7614, 2008. 486\\nIndranil Chowdhury, Matthew C. Duch, Nikhita D. Mansukhani, Mark C. 487\\nHersam, and Dermont Bouchard. Deposition and release of graphene oxide 488\\nnanomaterials using a quartz crystal microbalance. Environmental Science 489\\n& Technology , 48(2):961–969, 2014a. 490\\n27', metadata={'authorship': 'first', 'journal': 'Chemosphere', 'page': 26.0, 'publication_type': 'paper', 'source': 'data/docs/2017-02-01_paper_Chemosphere_first.pdf', 'year': 2017.0}),\n",
       " Document(page_content='of colloidal particles to environmentally relevant surfaces by combining quartz 68\\ncrystal microbalance with dissipation monitoring (QCM-D) and atomic force 69\\nmicroscopy (AFM) experiments. For the ﬁrst time, we present attachment 70\\neﬃciency curves for colloidal particles onto NOM coated silica surfaces, as 71\\na function of particle shape and ionic strength. By comparing the attach- 72\\nment results with DLS surface measurements and AFM topography images, 73\\nwe elucidate and discuss the mechanisms driving the complex attachment 74\\nbehavior observed. The results presented here suggest that colloidal particle 75\\nshape will play an important role in predicting transport, especially in the 76\\npresence of NOM. A better understanding of the role of shape in the at- 77\\ntachment of colloidal particles to environmentally relevant surfaces will lead 78\\nto a more accurate prediction of colloidal particle transport, aiding in risk 79\\nassessment of potential exposure pathways. 80\\n2. Materials and Methods 81\\n2.1. Materials 82\\n200 nm carboxylate-modiﬁed polystyrene (PS) spheres were purchased 83\\nfrom Phosphorex (107, Hopkinton, MA). Dry Harpeth humic acid (HHA) was 84\\nisolated and characterized as described in our previous publication (DeLapp 85\\net al., 2005). Alginic acid sodium salt (alginate, A2158), poly-L-lysine hydro- 86\\nbromide (PLL, P1274), and 4-(2-Hydroxyethyl)-1-piperazineethanesulfonic 87\\nacid (HEPES) were purchased from Sigma-Aldrich (St. Louis, MO). Reagent 88\\ngrade NaCl (S671) was purchased from Fisher Scientiﬁc (Pittsburgh, PA). 89\\nSilica-coated QCM-D sensors (QSX-303) were purchased from Q-Sense (Bi- 90\\nolin Scientiﬁc, Stockholm, Sweden). 900 nm silica microspheres were pur- 91\\n5', metadata={'authorship': 'first', 'journal': 'Chemosphere', 'page': 4.0, 'publication_type': 'paper', 'source': 'data/docs/2017-02-01_paper_Chemosphere_first.pdf', 'year': 2017.0})]"
      ]
     },
     "execution_count": 26,
     "metadata": {},
     "output_type": "execute_result"
    }
   ],
   "source": [
    "retriever.get_relevant_documents(\"What did I say about machine learning in a paper, prior to 2018?\")"
   ]
  },
  {
   "cell_type": "markdown",
   "metadata": {},
   "source": [
    "## RAG Chat\n",
    "And now this retriever can be used like any other retriever.  I'll build it into the RAG workflow here, using a stuff chain."
   ]
  },
  {
   "cell_type": "markdown",
   "metadata": {},
   "source": [
    "## Setup\n",
    "Similar to the previous notebook (`02-conversation-retrievalqa.ipynb`), I'll build a RAG workflow by injecting context from the retriever and chat history into a prompt template along with a system message and the user input."
   ]
  },
  {
   "cell_type": "code",
   "execution_count": 54,
   "metadata": {},
   "outputs": [],
   "source": [
    "from langchain.prompts import PromptTemplate\n",
    "from langchain.chains.question_answering import load_qa_chain\n",
    "from langchain.memory import ConversationSummaryBufferMemory\n",
    "\n",
    "# models\n",
    "llm = OpenAI()\n",
    "llm_summary = OpenAI()\n",
    "\n",
    "# prompt engineering\n",
    "template = \"\"\"You are a chatbot having a conversation with a human. \n",
    "You are an expert on the human's publications.\n",
    "Use the following pieces of context to answer the question at the end. \n",
    "If you don't know the answer, just say that you don't know, don't try to make up an answer. \n",
    "Use three sentences maximum and keep the answer as concise as possible. \n",
    "\n",
    "{context}\n",
    "\n",
    "{chat_history}\n",
    "\n",
    "Question: {human_input}\n",
    "\n",
    "Helpful Answer:\"\"\"\n",
    "QA_CHAIN_PROMPT = PromptTemplate(input_variables=['context', 'human_input', 'chat_history'], template=template)\n",
    "\n",
    "# history\n",
    "memory = ConversationSummaryBufferMemory(\n",
    "    llm=llm_summary, \n",
    "    memory_key=\"chat_history\", \n",
    "    input_key=\"human_input\", \n",
    "    max_token_limit=100, \n",
    "    human_prefix = \"\", \n",
    "    ai_prefix = \"\"\n",
    ")\n",
    "\n",
    "# stuff chain\n",
    "qa_chain = load_qa_chain(llm=llm, chain_type=\"stuff\", prompt=QA_CHAIN_PROMPT, verbose=True, memory=memory)"
   ]
  },
  {
   "cell_type": "markdown",
   "metadata": {},
   "source": [
    "## Test RAG Chat\n",
    "Now I'll try a few prompts to see if I can get the workflow to operate as expected."
   ]
  },
  {
   "cell_type": "code",
   "execution_count": 55,
   "metadata": {},
   "outputs": [],
   "source": [
    "from IPython.display import HTML\n",
    "\n",
    "def display_result(question, result, similar_docs, chat_history):\n",
    "    result_html = f\"<p><blockquote style=\\\"font-size:24px\\\">{question}</blockquote></p>\"\n",
    "    result_html += f\"<p><blockquote style=\\\"font-size:18px\\\">{result}</blockquote></p>\"\n",
    "    result_html += \"<p><hr/></p>\"\n",
    "    for d in similar_docs:\n",
    "        source_id = d.metadata[\"source\"]\n",
    "        result_html += f\"<p><blockquote>{d.page_content}<br/>(Source: {source_id})</blockquote></p>\"\n",
    "    result_html += \"<p><hr/></p>\"\n",
    "    result_html += \"<p><blockquote style=\\\"font-size:24px\\\">Summarized Chat History</blockquote></p>\"\n",
    "    result_html += f\"<p><blockquote>{chat_history}</blockquote></p>\"\n",
    "\n",
    "    display(HTML(result_html))"
   ]
  },
  {
   "cell_type": "code",
   "execution_count": 56,
   "metadata": {},
   "outputs": [
    {
     "name": "stdout",
     "output_type": "stream",
     "text": [
      "query='machine learning environmental applications' filter=None limit=None\n",
      "\n",
      "\n",
      "\u001b[1m> Entering new StuffDocumentsChain chain...\u001b[0m\n",
      "\n",
      "\n",
      "\u001b[1m> Entering new LLMChain chain...\u001b[0m\n",
      "Prompt after formatting:\n",
      "\u001b[32;1m\u001b[1;3mYou are a chatbot having a conversation with a human. \n",
      "You are an expert on the human's publications.\n",
      "Use the following pieces of context to answer the question at the end. \n",
      "If you don't know the answer, just say that you don't know, don't try to make up an answer. \n",
      "Use three sentences maximum and keep the answer as concise as possible. \n",
      "\n",
      "has been developed from these studies. Without explicitly linking the physicochemical\n",
      "properties of the particle and system to the transport and attachment, these models remain\n",
      "descriptive tools rather than powerful predictive models.\n",
      "Machine learning allows us to develop empirical models from complex systems where\n",
      "the underlying relationships between the data are too complex to develop by hand [83].\n",
      "Machine learning has been successfully applied to a wide range of complex problems,\n",
      "including speech and computer vision, self driving cars, search engines, and medical di-\n",
      "agnoses [84–87]. In two recent studies [88, 89] machine learning was applied to predict\n",
      "the toxicity and biological impacts of ENMs, based explicitly on the molecular properties\n",
      "of the nanomaterial. Despite the successes of machine learning in a wide range of appli-\n",
      "cations, it has not been applied to the complex task of modeling environmental transport\n",
      "until very recently. A very recent study by Goldberg et al. [90] employed ensemble ma-\n",
      "chine learning (random forest) regression and classiﬁcation to predict the retained fraction\n",
      "(RF; the fraction of materials retained during a soil column experiment in comparison to\n",
      "the total mass of materials injected into the column) and shape of retention proﬁle (RP) us-\n",
      "ing a database of more than 200 nanomaterial column transport experiments amassed from\n",
      "published literature. Goldberg et al. [90] reported that their model was able to predict the\n",
      "RF with a mean squared error between 0.025–0.033, and the RP with an expected F1-score\n",
      "(the weighted harmonic mean of precision and recall) between 60–70%. Further, by recur-\n",
      "sively removing physical and chemical features to optimize model predictive performance,\n",
      "the authors were able to rank the importance of the physicochemical state features (e.g.,\n",
      "pH, ionic strength, nanomaterial type, ect) to ENM transport.\n",
      "An important difference between a data-driven modeling approach like machine learn-\n",
      "ing and the traditional modeling approach is that the data-driven model is trained on a large\n",
      "database of experiments conducted at varying experimental conditions as a whole, rather\n",
      "than developed through separate investigations of isolated factors. This allows the data-\n",
      "driven model to consider the complex interactions between physicochemical conditions\n",
      "15\n",
      "\n",
      "of the nanomaterial. Despite the successes of machine learning in a wide range of appli-\n",
      "cations, it has not been applied to the complex task of modeling environmental transport\n",
      "until very recently. A very recent study by Goldberg et al. [90] employed ensemble ma-\n",
      "chine learning (random forest) regression and classiﬁcation to predict the retained fraction\n",
      "(RF; the fraction of materials retained during a soil column experiment in comparison to\n",
      "the total mass of materials injected into the column) and shape of retention proﬁle (RP) us-\n",
      "ing a database of more than 200 nanomaterial column transport experiments amassed from\n",
      "published literature. Goldberg et al. [90] reported that their model was able to predict the\n",
      "RF with a mean squared error between 0.025–0.033, and the RP with an expected F1-score\n",
      "(the weighted harmonic mean of precision and recall) between 60–70%. Further, by recur-\n",
      "sively removing physical and chemical features to optimize model predictive performance,\n",
      "the authors were able to rank the importance of the physicochemical state features (e.g.,\n",
      "pH, ionic strength, nanomaterial type, etc.) to ENM transport.\n",
      "The high variability in reported αvalues under seemingly similar experimental condi-\n",
      "tions is one reason why these data have not yet been successfully modeled. For example,\n",
      "the presence of an attached layer of natural organic matter (NOM) has been reported to\n",
      "hinder, enhance, or have no effect on αunder similar solution conditions [64, 66, 81]. The\n",
      "purpose of this work is to combine all of the available αdata in order to identify which\n",
      "of the complex set of variables are most important and, ultimately, produce a predictive\n",
      "model for αbased on the identiﬁed variables. Here, 299 total experiments with 13 physic-\n",
      "ochemical features each were chosen from 12 publications [39, 61, 63–66, 81, 82, 104,\n",
      "116, 121, 122, 124] to form the largest QCM-D derived αdatabase to date. Ensemble\n",
      "machine learning (gradient boosting decision trees) was employed to empirically relate the\n",
      "physicochemical state (i.e., physicochemical training features) to the αvalues (i.e., target\n",
      "feature) measured by QCM-D. Grid search hyper parameter optimization with cross vali-\n",
      "dation (GSHPOCV) and recursive feature elimination with cross-validation (RFECV) were\n",
      "employed to optimize model performance. To identify the physicochemical features most\n",
      "92\n",
      "\n",
      "quality transport data from many sources with advanced machine learning techniques, we\n",
      "can make progress towards an all encompassing understanding of transport, allowing us to\n",
      "make impactful, risk-informed decisions in the present day, before we fully understand the\n",
      "theory and mechanisms driving environmental transport.\n",
      "118\n",
      "\n",
      "[82] Coy P. McNew, Negin Kananizadeh, Yusong Li, and Eugene J. LeBoeuf. The at-\n",
      "tachment of colloidal particles to environmentally relevant surfaces and the effect of\n",
      "particle shape. Manuscript in preparation , 2015.\n",
      "[83] Christopher M Bishop. Pattern Recognition and Machine Learning . springer, 2006.\n",
      "[84] Li Deng, Geoffrey Hinton, and Brian Kingsbury. New types of deep neural network\n",
      "learning for speech recognition and related applications: An overview. In Acoustics,\n",
      "Speech and Signal Processing (ICASSP), 2013 IEEE International Conference on ,\n",
      "pages 8599–8603. IEEE, 2013.\n",
      "[85] David Stavens and Sebastian Thrun. A self-supervised terrain roughness estimator\n",
      "for off-road autonomous driving. arXiv preprint arXiv:1206.6872 , 2012.\n",
      "[86] Gary Bradski and Adrian Kaehler. Learning OpenCV: Computer vision with the\n",
      "OpenCV library . ” O’Reilly Media, Inc.”, 2008.\n",
      "[87] Travis B Murdoch and Allan S Detsky. The inevitable application of big data to\n",
      "health care. Jama , 309(13):1351–1352, 2013.\n",
      "[88] Jeremy M Gernand, Elizabeth Casman, et al. Machine learning for nanomaterial\n",
      "toxicity risk assessment. Intelligent Systems, IEEE , 29(3):84–88, 2014.\n",
      "[89] DA Winkler, FR Burden, Bing Yan, Ralph Weissleder, Carlos Tassa, Stanley Shaw,\n",
      "and VC Epa. Modelling and predicting the biological effects of nanomaterials. SAR\n",
      "and QSAR in Environmental Research , 25(2):161–172, 2014.\n",
      "[90] Eli Goldberg, Martin Scheringer, Thomas D Bucheli, and Konrad Hungerb ¨uhler.\n",
      "Prediction of nanoparticle transport behavior from physicochemical properties: ma-\n",
      "chine learning provides insights to guide the next generation of transport models.\n",
      "Environmental Science: Nano , 2(4):352–360, 2015.\n",
      "131\n",
      "\n",
      "\n",
      "\n",
      "Question: What have I written about machine learning applied to environmental applications?\n",
      "\n",
      "Helpful Answer:\u001b[0m\n",
      "\n",
      "\u001b[1m> Finished chain.\u001b[0m\n",
      "\n",
      "\u001b[1m> Finished chain.\u001b[0m\n"
     ]
    },
    {
     "data": {
      "text/html": [
       "<p><blockquote style=\"font-size:24px\">What have I written about machine learning applied to environmental applications?</blockquote></p><p><blockquote style=\"font-size:18px\"> I have written about machine learning being applied to the complex task of modeling environmental transport, specifically the use of ensemble machine learning (random forest) regression and classiﬁcation to predict the retained fraction and shape of retention proﬁle of nanomaterials. I also wrote about machine learning being used to predict toxicity and biological impacts of ENMs, as well as to identify the importance of physicochemical state features to ENM transport.</blockquote></p><p><hr/></p><p><blockquote>has been developed from these studies. Without explicitly linking the physicochemical\n",
       "properties of the particle and system to the transport and attachment, these models remain\n",
       "descriptive tools rather than powerful predictive models.\n",
       "Machine learning allows us to develop empirical models from complex systems where\n",
       "the underlying relationships between the data are too complex to develop by hand [83].\n",
       "Machine learning has been successfully applied to a wide range of complex problems,\n",
       "including speech and computer vision, self driving cars, search engines, and medical di-\n",
       "agnoses [84–87]. In two recent studies [88, 89] machine learning was applied to predict\n",
       "the toxicity and biological impacts of ENMs, based explicitly on the molecular properties\n",
       "of the nanomaterial. Despite the successes of machine learning in a wide range of appli-\n",
       "cations, it has not been applied to the complex task of modeling environmental transport\n",
       "until very recently. A very recent study by Goldberg et al. [90] employed ensemble ma-\n",
       "chine learning (random forest) regression and classiﬁcation to predict the retained fraction\n",
       "(RF; the fraction of materials retained during a soil column experiment in comparison to\n",
       "the total mass of materials injected into the column) and shape of retention proﬁle (RP) us-\n",
       "ing a database of more than 200 nanomaterial column transport experiments amassed from\n",
       "published literature. Goldberg et al. [90] reported that their model was able to predict the\n",
       "RF with a mean squared error between 0.025–0.033, and the RP with an expected F1-score\n",
       "(the weighted harmonic mean of precision and recall) between 60–70%. Further, by recur-\n",
       "sively removing physical and chemical features to optimize model predictive performance,\n",
       "the authors were able to rank the importance of the physicochemical state features (e.g.,\n",
       "pH, ionic strength, nanomaterial type, ect) to ENM transport.\n",
       "An important difference between a data-driven modeling approach like machine learn-\n",
       "ing and the traditional modeling approach is that the data-driven model is trained on a large\n",
       "database of experiments conducted at varying experimental conditions as a whole, rather\n",
       "than developed through separate investigations of isolated factors. This allows the data-\n",
       "driven model to consider the complex interactions between physicochemical conditions\n",
       "15<br/>(Source: data/docs/2015-12-15_dissertation_Vanderbilt Library_first.pdf)</blockquote></p><p><blockquote>of the nanomaterial. Despite the successes of machine learning in a wide range of appli-\n",
       "cations, it has not been applied to the complex task of modeling environmental transport\n",
       "until very recently. A very recent study by Goldberg et al. [90] employed ensemble ma-\n",
       "chine learning (random forest) regression and classiﬁcation to predict the retained fraction\n",
       "(RF; the fraction of materials retained during a soil column experiment in comparison to\n",
       "the total mass of materials injected into the column) and shape of retention proﬁle (RP) us-\n",
       "ing a database of more than 200 nanomaterial column transport experiments amassed from\n",
       "published literature. Goldberg et al. [90] reported that their model was able to predict the\n",
       "RF with a mean squared error between 0.025–0.033, and the RP with an expected F1-score\n",
       "(the weighted harmonic mean of precision and recall) between 60–70%. Further, by recur-\n",
       "sively removing physical and chemical features to optimize model predictive performance,\n",
       "the authors were able to rank the importance of the physicochemical state features (e.g.,\n",
       "pH, ionic strength, nanomaterial type, etc.) to ENM transport.\n",
       "The high variability in reported αvalues under seemingly similar experimental condi-\n",
       "tions is one reason why these data have not yet been successfully modeled. For example,\n",
       "the presence of an attached layer of natural organic matter (NOM) has been reported to\n",
       "hinder, enhance, or have no effect on αunder similar solution conditions [64, 66, 81]. The\n",
       "purpose of this work is to combine all of the available αdata in order to identify which\n",
       "of the complex set of variables are most important and, ultimately, produce a predictive\n",
       "model for αbased on the identiﬁed variables. Here, 299 total experiments with 13 physic-\n",
       "ochemical features each were chosen from 12 publications [39, 61, 63–66, 81, 82, 104,\n",
       "116, 121, 122, 124] to form the largest QCM-D derived αdatabase to date. Ensemble\n",
       "machine learning (gradient boosting decision trees) was employed to empirically relate the\n",
       "physicochemical state (i.e., physicochemical training features) to the αvalues (i.e., target\n",
       "feature) measured by QCM-D. Grid search hyper parameter optimization with cross vali-\n",
       "dation (GSHPOCV) and recursive feature elimination with cross-validation (RFECV) were\n",
       "employed to optimize model performance. To identify the physicochemical features most\n",
       "92<br/>(Source: data/docs/2015-12-15_dissertation_Vanderbilt Library_first.pdf)</blockquote></p><p><blockquote>quality transport data from many sources with advanced machine learning techniques, we\n",
       "can make progress towards an all encompassing understanding of transport, allowing us to\n",
       "make impactful, risk-informed decisions in the present day, before we fully understand the\n",
       "theory and mechanisms driving environmental transport.\n",
       "118<br/>(Source: data/docs/2015-12-15_dissertation_Vanderbilt Library_first.pdf)</blockquote></p><p><blockquote>[82] Coy P. McNew, Negin Kananizadeh, Yusong Li, and Eugene J. LeBoeuf. The at-\n",
       "tachment of colloidal particles to environmentally relevant surfaces and the effect of\n",
       "particle shape. Manuscript in preparation , 2015.\n",
       "[83] Christopher M Bishop. Pattern Recognition and Machine Learning . springer, 2006.\n",
       "[84] Li Deng, Geoffrey Hinton, and Brian Kingsbury. New types of deep neural network\n",
       "learning for speech recognition and related applications: An overview. In Acoustics,\n",
       "Speech and Signal Processing (ICASSP), 2013 IEEE International Conference on ,\n",
       "pages 8599–8603. IEEE, 2013.\n",
       "[85] David Stavens and Sebastian Thrun. A self-supervised terrain roughness estimator\n",
       "for off-road autonomous driving. arXiv preprint arXiv:1206.6872 , 2012.\n",
       "[86] Gary Bradski and Adrian Kaehler. Learning OpenCV: Computer vision with the\n",
       "OpenCV library . ” O’Reilly Media, Inc.”, 2008.\n",
       "[87] Travis B Murdoch and Allan S Detsky. The inevitable application of big data to\n",
       "health care. Jama , 309(13):1351–1352, 2013.\n",
       "[88] Jeremy M Gernand, Elizabeth Casman, et al. Machine learning for nanomaterial\n",
       "toxicity risk assessment. Intelligent Systems, IEEE , 29(3):84–88, 2014.\n",
       "[89] DA Winkler, FR Burden, Bing Yan, Ralph Weissleder, Carlos Tassa, Stanley Shaw,\n",
       "and VC Epa. Modelling and predicting the biological effects of nanomaterials. SAR\n",
       "and QSAR in Environmental Research , 25(2):161–172, 2014.\n",
       "[90] Eli Goldberg, Martin Scheringer, Thomas D Bucheli, and Konrad Hungerb ¨uhler.\n",
       "Prediction of nanoparticle transport behavior from physicochemical properties: ma-\n",
       "chine learning provides insights to guide the next generation of transport models.\n",
       "Environmental Science: Nano , 2(4):352–360, 2015.\n",
       "131<br/>(Source: data/docs/2015-12-15_dissertation_Vanderbilt Library_first.pdf)</blockquote></p><p><hr/></p><p><blockquote style=\"font-size:24px\">Summarized Chat History</blockquote></p><p><blockquote></blockquote></p>"
      ],
      "text/plain": [
       "<IPython.core.display.HTML object>"
      ]
     },
     "metadata": {},
     "output_type": "display_data"
    }
   ],
   "source": [
    "query = \"What have I written about machine learning applied to environmental applications?\"\n",
    "similar_docs = retriever.get_relevant_documents(query)\n",
    "result = qa_chain({\"input_documents\":similar_docs, \"human_input\":query})\n",
    "display_result(result[\"human_input\"], result[\"output_text\"], result[\"input_documents\"], result[\"chat_history\"])"
   ]
  },
  {
   "cell_type": "code",
   "execution_count": 57,
   "metadata": {},
   "outputs": [
    {
     "name": "stdout",
     "output_type": "stream",
     "text": [
      "query='machine learning' filter=Operation(operator=<Operator.AND: 'and'>, arguments=[Comparison(comparator=<Comparator.EQ: 'eq'>, attribute='publication_type', value='paper'), Comparison(comparator=<Comparator.GTE: 'gte'>, attribute='year', value=2015)]) limit=None\n",
      "\n",
      "\n",
      "\u001b[1m> Entering new StuffDocumentsChain chain...\u001b[0m\n",
      "\n",
      "\n",
      "\u001b[1m> Entering new LLMChain chain...\u001b[0m\n",
      "Prompt after formatting:\n",
      "\u001b[32;1m\u001b[1;3mYou are a chatbot having a conversation with a human. \n",
      "You are an expert on the human's publications.\n",
      "Use the following pieces of context to answer the question at the end. \n",
      "If you don't know the answer, just say that you don't know, don't try to make up an answer. \n",
      "Use three sentences maximum and keep the answer as concise as possible. \n",
      "\n",
      "Figure  3. 541\n",
      "\n",
      "help and support. 485\n",
      "24\n",
      "\n",
      "loamy sand by fitting to the measured DNA flux, and 3) assigning the best fit attachment and\n",
      "detachment rates obtained for loamy sand to the corresponding parameters of gravel.  Then, a\n",
      "simple local sensitivity analysis was conducted to see if the obtained parameters are the best fit\n",
      "and if the model is insensitive to some of the parameters. The domain setup and initial and\n",
      "boundary conditions as well as details of the model calibration and validation are described in\n",
      "Supporting Information “S4. Inverse modeling details” and “S6. Sensitivity analysis”..\n",
      "3. Results and Discussion\n",
      "3.1 Water flow\n",
      "320\n",
      "321\n",
      "322\n",
      "323\n",
      "324\n",
      "325\n",
      "326\n",
      "327\n",
      "328\n",
      "329\n",
      "330\n",
      "331\n",
      "\n",
      "(note that the breakthrough proﬁle alone is notdiagnostic in determining if current PTMs can be applied).8Articlepubs.acs.org/estThis is an open access article published under an ACS AuthorChoice License, which permitscopying and redistribution of the article or any adaptations for non-commercial purposes.\n",
      "\n",
      "System: \n",
      "The human asks what the AI thinks of artificial intelligence. The AI thinks artificial intelligence is a force for good because it will help humans reach their full potential, and the human is now asking about what has been written regarding machine learning applied to environmental applications.\n",
      ":  I have written about machine learning being applied to the complex task of modeling environmental transport, specifically the use of ensemble machine learning (random forest) regression and classiﬁcation to predict the retained fraction and shape of retention proﬁle of nanomaterials. I also wrote about machine learning being used to predict toxicity and biological impacts of ENMs, as well as to identify the importance of physicochemical state features to ENM transport.\n",
      "\n",
      "Question: And what did I say about machine learning in a paper after 2015?\n",
      "\n",
      "Helpful Answer:\u001b[0m\n",
      "\n",
      "\u001b[1m> Finished chain.\u001b[0m\n",
      "\n",
      "\u001b[1m> Finished chain.\u001b[0m\n"
     ]
    },
    {
     "data": {
      "text/html": [
       "<p><blockquote style=\"font-size:24px\">And what did I say about machine learning in a paper after 2015?</blockquote></p><p><blockquote style=\"font-size:18px\"> In a paper published in 2016, I wrote about using inverse modeling and sensitivity analysis of loamy sand to assign attachment and detachment rates for gravel. In a paper published in 2018, I wrote about the use of ensemble machine learning (random forest) regression and classification to predict the retained fraction and shape of retention proﬁle of nanomaterials, and the use of machine learning to predict toxicity and biological impacts of ENMs.</blockquote></p><p><hr/></p><p><blockquote>Figure  3. 541<br/>(Source: data/docs/2022-09-01_paper_Water Research_third.pdf)</blockquote></p><p><blockquote>help and support. 485\n",
       "24<br/>(Source: data/docs/2018-09-01_paper_Journal of Colloid and Interface Science_first.pdf)</blockquote></p><p><blockquote>loamy sand by fitting to the measured DNA flux, and 3) assigning the best fit attachment and\n",
       "detachment rates obtained for loamy sand to the corresponding parameters of gravel.  Then, a\n",
       "simple local sensitivity analysis was conducted to see if the obtained parameters are the best fit\n",
       "and if the model is insensitive to some of the parameters. The domain setup and initial and\n",
       "boundary conditions as well as details of the model calibration and validation are described in\n",
       "Supporting Information “S4. Inverse modeling details” and “S6. Sensitivity analysis”..\n",
       "3. Results and Discussion\n",
       "3.1 Water flow\n",
       "320\n",
       "321\n",
       "322\n",
       "323\n",
       "324\n",
       "325\n",
       "326\n",
       "327\n",
       "328\n",
       "329\n",
       "330\n",
       "331<br/>(Source: data/docs/2022-09-01_paper_Water Research_third.pdf)</blockquote></p><p><blockquote>(note that the breakthrough proﬁle alone is notdiagnostic in determining if current PTMs can be applied).8Articlepubs.acs.org/estThis is an open access article published under an ACS AuthorChoice License, which permitscopying and redistribution of the article or any adaptations for non-commercial purposes.<br/>(Source: data/docs/2017-03-07_paper_Environmental Science and Technology_second.pdf)</blockquote></p><p><hr/></p><p><blockquote style=\"font-size:24px\">Summarized Chat History</blockquote></p><p><blockquote>System: \n",
       "The human asks what the AI thinks of artificial intelligence. The AI thinks artificial intelligence is a force for good because it will help humans reach their full potential, and the human is now asking about what has been written regarding machine learning applied to environmental applications.\n",
       ":  I have written about machine learning being applied to the complex task of modeling environmental transport, specifically the use of ensemble machine learning (random forest) regression and classiﬁcation to predict the retained fraction and shape of retention proﬁle of nanomaterials. I also wrote about machine learning being used to predict toxicity and biological impacts of ENMs, as well as to identify the importance of physicochemical state features to ENM transport.</blockquote></p>"
      ],
      "text/plain": [
       "<IPython.core.display.HTML object>"
      ]
     },
     "metadata": {},
     "output_type": "display_data"
    }
   ],
   "source": [
    "query = \"And what did I say about machine learning in a paper after 2015?\"\n",
    "similar_docs = retriever.get_relevant_documents(query)\n",
    "result = qa_chain({\"input_documents\":similar_docs, \"human_input\":query})\n",
    "display_result(result[\"human_input\"], result[\"output_text\"], result[\"input_documents\"], result[\"chat_history\"])"
   ]
  }
 ],
 "metadata": {
  "kernelspec": {
   "display_name": ".venv",
   "language": "python",
   "name": "python3"
  },
  "language_info": {
   "codemirror_mode": {
    "name": "ipython",
    "version": 3
   },
   "file_extension": ".py",
   "mimetype": "text/x-python",
   "name": "python",
   "nbconvert_exporter": "python",
   "pygments_lexer": "ipython3",
   "version": "3.11.1"
  },
  "orig_nbformat": 4
 },
 "nbformat": 4,
 "nbformat_minor": 2
}
